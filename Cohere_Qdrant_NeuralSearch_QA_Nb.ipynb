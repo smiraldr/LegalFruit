{
 "cells": [
  {
   "cell_type": "code",
   "execution_count": 1,
   "metadata": {
    "colab": {
     "base_uri": "https://localhost:8080/"
    },
    "id": "w2tYEjeeHHT5",
    "outputId": "2eb5a237-2d35-48a0-a5e8-fe63332c6638"
   },
   "outputs": [
    {
     "name": "stdout",
     "output_type": "stream",
     "text": [
      "Requirement already satisfied: datasets in /usr/local/lib/python3.8/dist-packages (2.7.0)\n",
      "Collecting datasets\n",
      "  Downloading datasets-2.10.1-py3-none-any.whl (469 kB)\n",
      "\u001b[2K     \u001b[90m━━━━━━━━━━━━━━━━━━━━━━━━━━━━━━━━━━━━━━━\u001b[0m \u001b[32m469.0/469.0 kB\u001b[0m \u001b[31m6.7 MB/s\u001b[0m eta \u001b[36m0:00:00\u001b[0ma \u001b[36m0:00:01\u001b[0m\n",
      "\u001b[?25hRequirement already satisfied: transformers in /usr/local/lib/python3.8/dist-packages (4.22.1)\n",
      "Collecting transformers\n",
      "  Downloading transformers-4.26.1-py3-none-any.whl (6.3 MB)\n",
      "\u001b[2K     \u001b[90m━━━━━━━━━━━━━━━━━━━━━━━━━━━━━━━━━━━━━━━━\u001b[0m \u001b[32m6.3/6.3 MB\u001b[0m \u001b[31m55.0 MB/s\u001b[0m eta \u001b[36m0:00:00\u001b[0m00:01\u001b[0m00:01\u001b[0m\n",
      "\u001b[?25hCollecting cohere\n",
      "  Downloading cohere-4.0.1-py3-none-any.whl (27 kB)\n",
      "Collecting langchain\n",
      "  Downloading langchain-0.0.111-py3-none-any.whl (379 kB)\n",
      "\u001b[2K     \u001b[90m━━━━━━━━━━━━━━━━━━━━━━━━━━━━━━━━━━━━━━\u001b[0m \u001b[32m379.5/379.5 kB\u001b[0m \u001b[31m46.6 MB/s\u001b[0m eta \u001b[36m0:00:00\u001b[0m\n",
      "\u001b[?25hCollecting qdrant-client\n",
      "  Downloading qdrant_client-1.0.5-py3-none-any.whl (96 kB)\n",
      "\u001b[2K     \u001b[90m━━━━━━━━━━━━━━━━━━━━━━━━━━━━━━━━━━━━━━━━\u001b[0m \u001b[32m96.9/96.9 kB\u001b[0m \u001b[31m20.2 MB/s\u001b[0m eta \u001b[36m0:00:00\u001b[0m\n",
      "\u001b[?25hRequirement already satisfied: requests>=2.19.0 in /usr/local/lib/python3.8/dist-packages (from datasets) (2.28.2)\n",
      "Requirement already satisfied: huggingface-hub<1.0.0,>=0.2.0 in /usr/local/lib/python3.8/dist-packages (from datasets) (0.11.0)\n",
      "Requirement already satisfied: responses<0.19 in /usr/local/lib/python3.8/dist-packages (from datasets) (0.18.0)\n",
      "Requirement already satisfied: fsspec[http]>=2021.11.1 in /usr/local/lib/python3.8/dist-packages (from datasets) (2022.11.0)\n",
      "Requirement already satisfied: pyyaml>=5.1 in /usr/local/lib/python3.8/dist-packages (from datasets) (5.4.1)\n",
      "Requirement already satisfied: packaging in /usr/local/lib/python3.8/dist-packages (from datasets) (21.3)\n",
      "Requirement already satisfied: aiohttp in /usr/local/lib/python3.8/dist-packages (from datasets) (3.8.1)\n",
      "Requirement already satisfied: pyarrow>=6.0.0 in /usr/local/lib/python3.8/dist-packages (from datasets) (9.0.0)\n",
      "Requirement already satisfied: dill<0.3.7,>=0.3.0 in /usr/local/lib/python3.8/dist-packages (from datasets) (0.3.6)\n",
      "Requirement already satisfied: pandas in /usr/local/lib/python3.8/dist-packages (from datasets) (1.4.3)\n",
      "Requirement already satisfied: numpy>=1.17 in /usr/local/lib/python3.8/dist-packages (from datasets) (1.22.1)\n",
      "Requirement already satisfied: xxhash in /usr/local/lib/python3.8/dist-packages (from datasets) (3.1.0)\n",
      "Requirement already satisfied: multiprocess in /usr/local/lib/python3.8/dist-packages (from datasets) (0.70.14)\n",
      "Requirement already satisfied: tqdm>=4.62.1 in /usr/local/lib/python3.8/dist-packages (from datasets) (4.64.0)\n",
      "Requirement already satisfied: filelock in /usr/local/lib/python3.8/dist-packages (from transformers) (3.8.0)\n",
      "Requirement already satisfied: regex!=2019.12.17 in /usr/local/lib/python3.8/dist-packages (from transformers) (2022.8.17)\n",
      "Requirement already satisfied: tokenizers!=0.11.3,<0.14,>=0.11.1 in /usr/local/lib/python3.8/dist-packages (from transformers) (0.12.1)\n",
      "Requirement already satisfied: backoff<3.0,>=2.0 in /usr/local/lib/python3.8/dist-packages (from cohere) (2.2.1)\n",
      "Requirement already satisfied: SQLAlchemy<2,>=1 in /usr/local/lib/python3.8/dist-packages (from langchain) (1.4.40)\n",
      "Requirement already satisfied: pydantic<2,>=1 in /usr/local/lib/python3.8/dist-packages (from langchain) (1.9.2)\n",
      "Requirement already satisfied: dataclasses-json<0.6.0,>=0.5.7 in /usr/local/lib/python3.8/dist-packages (from langchain) (0.5.7)\n",
      "Requirement already satisfied: tenacity<9.0.0,>=8.1.0 in /usr/local/lib/python3.8/dist-packages (from langchain) (8.1.0)\n",
      "Collecting pyyaml>=5.1\n",
      "  Downloading PyYAML-6.0-cp38-cp38-manylinux_2_5_x86_64.manylinux1_x86_64.manylinux_2_12_x86_64.manylinux2010_x86_64.whl (701 kB)\n",
      "\u001b[2K     \u001b[90m━━━━━━━━━━━━━━━━━━━━━━━━━━━━━━━━━━━━━━\u001b[0m \u001b[32m701.2/701.2 kB\u001b[0m \u001b[31m62.6 MB/s\u001b[0m eta \u001b[36m0:00:00\u001b[0m\n",
      "\u001b[?25hCollecting aiohttp\n",
      "  Downloading aiohttp-3.8.4-cp38-cp38-manylinux_2_17_x86_64.manylinux2014_x86_64.whl (1.0 MB)\n",
      "\u001b[2K     \u001b[90m━━━━━━━━━━━━━━━━━━━━━━━━━━━━━━━━━━━━━━━━\u001b[0m \u001b[32m1.0/1.0 MB\u001b[0m \u001b[31m82.7 MB/s\u001b[0m eta \u001b[36m0:00:00\u001b[0m\n",
      "\u001b[?25hCollecting httpx[http2]>=0.14.0\n",
      "  Downloading httpx-0.23.3-py3-none-any.whl (71 kB)\n",
      "\u001b[2K     \u001b[90m━━━━━━━━━━━━━━━━━━━━━━━━━━━━━━━━━━━━━━━━\u001b[0m \u001b[32m71.5/71.5 kB\u001b[0m \u001b[31m14.4 MB/s\u001b[0m eta \u001b[36m0:00:00\u001b[0m\n",
      "\u001b[?25hRequirement already satisfied: typing-extensions<5.0.0,>=4.0.0 in /usr/local/lib/python3.8/dist-packages (from qdrant-client) (4.0.1)\n",
      "Collecting urllib3<2.0.0,>=1.26.14\n",
      "  Downloading urllib3-1.26.15-py2.py3-none-any.whl (140 kB)\n",
      "\u001b[2K     \u001b[90m━━━━━━━━━━━━━━━━━━━━━━━━━━━━━━━━━━━━━━\u001b[0m \u001b[32m140.9/140.9 kB\u001b[0m \u001b[31m27.1 MB/s\u001b[0m eta \u001b[36m0:00:00\u001b[0m\n",
      "\u001b[?25hCollecting grpcio-tools>=1.41.0\n",
      "  Downloading grpcio_tools-1.51.3-cp38-cp38-manylinux_2_17_x86_64.manylinux2014_x86_64.whl (2.4 MB)\n",
      "\u001b[2K     \u001b[90m━━━━━━━━━━━━━━━━━━━━━━━━━━━━━━━━━━━━━━━━\u001b[0m \u001b[32m2.4/2.4 MB\u001b[0m \u001b[31m83.0 MB/s\u001b[0m eta \u001b[36m0:00:00\u001b[0m\n",
      "\u001b[?25hRequirement already satisfied: grpcio>=1.41.0 in /usr/local/lib/python3.8/dist-packages (from qdrant-client) (1.50.0)\n",
      "Requirement already satisfied: attrs>=17.3.0 in /usr/local/lib/python3.8/dist-packages (from aiohttp->datasets) (21.4.0)\n",
      "Requirement already satisfied: frozenlist>=1.1.1 in /usr/local/lib/python3.8/dist-packages (from aiohttp->datasets) (1.3.3)\n",
      "Requirement already satisfied: aiosignal>=1.1.2 in /usr/local/lib/python3.8/dist-packages (from aiohttp->datasets) (1.3.1)\n",
      "Requirement already satisfied: charset-normalizer<4.0,>=2.0 in /usr/local/lib/python3.8/dist-packages (from aiohttp->datasets) (2.1.1)\n",
      "Requirement already satisfied: yarl<2.0,>=1.0 in /usr/local/lib/python3.8/dist-packages (from aiohttp->datasets) (1.8.1)\n",
      "Requirement already satisfied: async-timeout<5.0,>=4.0.0a3 in /usr/local/lib/python3.8/dist-packages (from aiohttp->datasets) (4.0.2)\n",
      "Requirement already satisfied: multidict<7.0,>=4.5 in /usr/local/lib/python3.8/dist-packages (from aiohttp->datasets) (6.0.2)\n",
      "Requirement already satisfied: typing-inspect>=0.4.0 in /usr/local/lib/python3.8/dist-packages (from dataclasses-json<0.6.0,>=0.5.7->langchain) (0.8.0)\n",
      "Requirement already satisfied: marshmallow-enum<2.0.0,>=1.5.1 in /usr/local/lib/python3.8/dist-packages (from dataclasses-json<0.6.0,>=0.5.7->langchain) (1.5.1)\n",
      "Requirement already satisfied: marshmallow<4.0.0,>=3.3.0 in /usr/local/lib/python3.8/dist-packages (from dataclasses-json<0.6.0,>=0.5.7->langchain) (3.17.1)\n",
      "Requirement already satisfied: six>=1.5.2 in /usr/lib/python3/dist-packages (from grpcio>=1.41.0->qdrant-client) (1.14.0)\n",
      "Requirement already satisfied: setuptools in /usr/local/lib/python3.8/dist-packages (from grpcio-tools>=1.41.0->qdrant-client) (60.7.0)\n",
      "Collecting grpcio>=1.41.0\n",
      "  Downloading grpcio-1.51.3-cp38-cp38-manylinux_2_17_x86_64.manylinux2014_x86_64.whl (4.8 MB)\n",
      "\u001b[2K     \u001b[90m━━━━━━━━━━━━━━━━━━━━━━━━━━━━━━━━━━━━━━━━\u001b[0m \u001b[32m4.8/4.8 MB\u001b[0m \u001b[31m67.1 MB/s\u001b[0m eta \u001b[36m0:00:00\u001b[0m00:01\u001b[0m:00:01\u001b[0m\n",
      "\u001b[?25hCollecting protobuf<5.0dev,>=4.21.6\n",
      "  Downloading protobuf-4.22.1-cp37-abi3-manylinux2014_x86_64.whl (302 kB)\n",
      "\u001b[2K     \u001b[90m━━━━━━━━━━━━━━━━━━━━━━━━━━━━━━━━━━━━━━\u001b[0m \u001b[32m302.4/302.4 kB\u001b[0m \u001b[31m44.1 MB/s\u001b[0m eta \u001b[36m0:00:00\u001b[0m\n",
      "\u001b[?25hRequirement already satisfied: certifi in /usr/lib/python3/dist-packages (from httpx[http2]>=0.14.0->qdrant-client) (2019.11.28)\n",
      "Collecting rfc3986[idna2008]<2,>=1.3\n",
      "  Downloading rfc3986-1.5.0-py2.py3-none-any.whl (31 kB)\n",
      "Collecting sniffio\n",
      "  Downloading sniffio-1.3.0-py3-none-any.whl (10 kB)\n",
      "Collecting httpcore<0.17.0,>=0.15.0\n",
      "  Downloading httpcore-0.16.3-py3-none-any.whl (69 kB)\n",
      "\u001b[2K     \u001b[90m━━━━━━━━━━━━━━━━━━━━━━━━━━━━━━━━━━━━━━━━\u001b[0m \u001b[32m69.6/69.6 kB\u001b[0m \u001b[31m14.1 MB/s\u001b[0m eta \u001b[36m0:00:00\u001b[0m\n",
      "\u001b[?25hCollecting h2<5,>=3\n",
      "  Downloading h2-4.1.0-py3-none-any.whl (57 kB)\n",
      "\u001b[2K     \u001b[90m━━━━━━━━━━━━━━━━━━━━━━━━━━━━━━━━━━━━━━━━\u001b[0m \u001b[32m57.5/57.5 kB\u001b[0m \u001b[31m11.8 MB/s\u001b[0m eta \u001b[36m0:00:00\u001b[0m\n",
      "\u001b[?25hRequirement already satisfied: pyparsing!=3.0.5,>=2.0.2 in /usr/local/lib/python3.8/dist-packages (from packaging->datasets) (3.0.7)\n",
      "Requirement already satisfied: idna<4,>=2.5 in /usr/lib/python3/dist-packages (from requests>=2.19.0->datasets) (2.8)\n",
      "Requirement already satisfied: greenlet!=0.4.17 in /usr/local/lib/python3.8/dist-packages (from SQLAlchemy<2,>=1->langchain) (1.1.2)\n",
      "Requirement already satisfied: pytz>=2020.1 in /usr/local/lib/python3.8/dist-packages (from pandas->datasets) (2022.2.1)\n",
      "Requirement already satisfied: python-dateutil>=2.8.1 in /usr/local/lib/python3.8/dist-packages (from pandas->datasets) (2.8.2)\n",
      "Collecting hyperframe<7,>=6.0\n",
      "  Downloading hyperframe-6.0.1-py3-none-any.whl (12 kB)\n",
      "Collecting hpack<5,>=4.0\n",
      "  Downloading hpack-4.0.0-py3-none-any.whl (32 kB)\n",
      "Collecting anyio<5.0,>=3.0\n",
      "  Downloading anyio-3.6.2-py3-none-any.whl (80 kB)\n",
      "\u001b[2K     \u001b[90m━━━━━━━━━━━━━━━━━━━━━━━━━━━━━━━━━━━━━━━━\u001b[0m \u001b[32m80.6/80.6 kB\u001b[0m \u001b[31m15.5 MB/s\u001b[0m eta \u001b[36m0:00:00\u001b[0m\n",
      "\u001b[?25hCollecting h11<0.15,>=0.13\n",
      "  Downloading h11-0.14.0-py3-none-any.whl (58 kB)\n",
      "\u001b[2K     \u001b[90m━━━━━━━━━━━━━━━━━━━━━━━━━━━━━━━━━━━━━━━━\u001b[0m \u001b[32m58.3/58.3 kB\u001b[0m \u001b[31m11.7 MB/s\u001b[0m eta \u001b[36m0:00:00\u001b[0m\n",
      "\u001b[?25hRequirement already satisfied: mypy-extensions>=0.3.0 in /usr/local/lib/python3.8/dist-packages (from typing-inspect>=0.4.0->dataclasses-json<0.6.0,>=0.5.7->langchain) (0.4.3)\n",
      "Installing collected packages: rfc3986, urllib3, sniffio, pyyaml, protobuf, hyperframe, hpack, h11, grpcio, h2, grpcio-tools, anyio, aiohttp, httpcore, cohere, transformers, httpx, datasets, langchain, qdrant-client\n",
      "  Attempting uninstall: urllib3\n",
      "    Found existing installation: urllib3 1.26.12\n",
      "    Uninstalling urllib3-1.26.12:\n",
      "      Successfully uninstalled urllib3-1.26.12\n",
      "  Attempting uninstall: pyyaml\n",
      "    Found existing installation: PyYAML 5.4.1\n",
      "    Uninstalling PyYAML-5.4.1:\n",
      "      Successfully uninstalled PyYAML-5.4.1\n",
      "  Attempting uninstall: protobuf\n",
      "    Found existing installation: protobuf 3.20.3\n",
      "    Uninstalling protobuf-3.20.3:\n",
      "      Successfully uninstalled protobuf-3.20.3\n",
      "  Attempting uninstall: grpcio\n",
      "    Found existing installation: grpcio 1.50.0\n",
      "    Uninstalling grpcio-1.50.0:\n",
      "      Successfully uninstalled grpcio-1.50.0\n",
      "  Attempting uninstall: aiohttp\n",
      "    Found existing installation: aiohttp 3.8.1\n",
      "    Uninstalling aiohttp-3.8.1:\n",
      "      Successfully uninstalled aiohttp-3.8.1\n",
      "  Attempting uninstall: transformers\n",
      "    Found existing installation: transformers 4.22.1\n",
      "    Uninstalling transformers-4.22.1:\n",
      "      Successfully uninstalled transformers-4.22.1\n",
      "  Attempting uninstall: datasets\n",
      "    Found existing installation: datasets 2.7.0\n",
      "    Uninstalling datasets-2.7.0:\n",
      "      Successfully uninstalled datasets-2.7.0\n",
      "\u001b[31mERROR: pip's dependency resolver does not currently take into account all the packages that are installed. This behaviour is the source of the following dependency conflicts.\n",
      "tensorflow 2.7.3 requires protobuf<3.20,>=3.9.2, but you have protobuf 4.22.1 which is incompatible.\n",
      "gremlinpython 3.6.1 requires aiohttp<=3.8.1,>=3.8.0, but you have aiohttp 3.8.4 which is incompatible.\n",
      "detoxify 0.5.1 requires transformers==4.22.1, but you have transformers 4.26.1 which is incompatible.\n",
      "bertopic 0.12.0 requires pyyaml<6.0, but you have pyyaml 6.0 which is incompatible.\u001b[0m\u001b[31m\n",
      "\u001b[0mSuccessfully installed aiohttp-3.8.4 anyio-3.6.2 cohere-4.0.1 datasets-2.10.1 grpcio-1.51.3 grpcio-tools-1.51.3 h11-0.14.0 h2-4.1.0 hpack-4.0.0 httpcore-0.16.3 httpx-0.23.3 hyperframe-6.0.1 langchain-0.0.111 protobuf-4.22.1 pyyaml-6.0 qdrant-client-1.0.5 rfc3986-1.5.0 sniffio-1.3.0 transformers-4.26.1 urllib3-1.26.15\n",
      "\u001b[33mWARNING: Running pip as the 'root' user can result in broken permissions and conflicting behaviour with the system package manager. It is recommended to use a virtual environment instead: https://pip.pypa.io/warnings/venv\u001b[0m\u001b[33m\n",
      "\u001b[0m--- Logging error ---\n",
      "Traceback (most recent call last):\n",
      "  File \"/usr/local/lib/python3.8/dist-packages/pip/_internal/utils/logging.py\", line 177, in emit\n",
      "    self.console.print(renderable, overflow=\"ignore\", crop=False, style=style)\n",
      "  File \"/usr/local/lib/python3.8/dist-packages/pip/_vendor/rich/console.py\", line 1673, in print\n",
      "    extend(render(renderable, render_options))\n",
      "  File \"/usr/local/lib/python3.8/dist-packages/pip/_vendor/rich/console.py\", line 1305, in render\n",
      "    for render_output in iter_render:\n",
      "  File \"/usr/local/lib/python3.8/dist-packages/pip/_internal/utils/logging.py\", line 134, in __rich_console__\n",
      "    for line in lines:\n",
      "  File \"/usr/local/lib/python3.8/dist-packages/pip/_vendor/rich/segment.py\", line 249, in split_lines\n",
      "    for segment in segments:\n",
      "  File \"/usr/local/lib/python3.8/dist-packages/pip/_vendor/rich/console.py\", line 1283, in render\n",
      "    renderable = rich_cast(renderable)\n",
      "  File \"/usr/local/lib/python3.8/dist-packages/pip/_vendor/rich/protocol.py\", line 36, in rich_cast\n",
      "    renderable = cast_method()\n",
      "  File \"/usr/local/lib/python3.8/dist-packages/pip/_internal/self_outdated_check.py\", line 130, in __rich__\n",
      "    pip_cmd = get_best_invocation_for_this_pip()\n",
      "  File \"/usr/local/lib/python3.8/dist-packages/pip/_internal/utils/entrypoints.py\", line 58, in get_best_invocation_for_this_pip\n",
      "    if found_executable and os.path.samefile(\n",
      "  File \"/usr/lib/python3.8/genericpath.py\", line 101, in samefile\n",
      "    s2 = os.stat(f2)\n",
      "FileNotFoundError: [Errno 2] No such file or directory: '/usr/bin/pip'\n",
      "Call stack:\n",
      "  File \"/usr/local/bin/pip3\", line 8, in <module>\n",
      "    sys.exit(main())\n",
      "  File \"/usr/local/lib/python3.8/dist-packages/pip/_internal/cli/main.py\", line 70, in main\n",
      "    return command.main(cmd_args)\n",
      "  File \"/usr/local/lib/python3.8/dist-packages/pip/_internal/cli/base_command.py\", line 101, in main\n",
      "    return self._main(args)\n",
      "  File \"/usr/local/lib/python3.8/dist-packages/pip/_internal/cli/base_command.py\", line 223, in _main\n",
      "    self.handle_pip_version_check(options)\n",
      "  File \"/usr/local/lib/python3.8/dist-packages/pip/_internal/cli/req_command.py\", line 190, in handle_pip_version_check\n",
      "    pip_self_version_check(session, options)\n",
      "  File \"/usr/local/lib/python3.8/dist-packages/pip/_internal/self_outdated_check.py\", line 236, in pip_self_version_check\n",
      "    logger.warning(\"[present-rich] %s\", upgrade_prompt)\n",
      "  File \"/usr/lib/python3.8/logging/__init__.py\", line 1458, in warning\n",
      "    self._log(WARNING, msg, args, **kwargs)\n",
      "  File \"/usr/lib/python3.8/logging/__init__.py\", line 1589, in _log\n",
      "    self.handle(record)\n",
      "  File \"/usr/lib/python3.8/logging/__init__.py\", line 1599, in handle\n",
      "    self.callHandlers(record)\n",
      "  File \"/usr/lib/python3.8/logging/__init__.py\", line 1661, in callHandlers\n",
      "    hdlr.handle(record)\n",
      "  File \"/usr/lib/python3.8/logging/__init__.py\", line 954, in handle\n",
      "    self.emit(record)\n",
      "  File \"/usr/local/lib/python3.8/dist-packages/pip/_internal/utils/logging.py\", line 179, in emit\n",
      "    self.handleError(record)\n",
      "Message: '[present-rich] %s'\n",
      "Arguments: (UpgradePrompt(old='22.2.2', new='23.0.1'),)\n"
     ]
    }
   ],
   "source": [
    "#install requirements\n",
    "!pip3 install --upgrade datasets transformers cohere langchain qdrant-client"
   ]
  },
  {
   "cell_type": "code",
   "execution_count": 2,
   "metadata": {
    "colab": {
     "base_uri": "https://localhost:8080/"
    },
    "id": "Q_4CeQ_nEsKW",
    "outputId": "29b03b74-454e-4ff9-b49b-332b7f7e7924"
   },
   "outputs": [],
   "source": [
    "# For a bigger dataset we can ingest the given Contract dataset which is about 8GB in size \n",
    "# For a hackathon prototype we have only ingested subset of CUAD dataset\n",
    "# !wget contracts.tar.gz 'https://drive.google.com/uc?export=download&id=1of37X0hAhECQ3BN_004D8gm6V88tgZaB&confirm=t'\n",
    "# !tar -zxvf contracts.tar.gz --directory data"
   ]
  },
  {
   "cell_type": "code",
   "execution_count": 4,
   "metadata": {
    "colab": {
     "base_uri": "https://localhost:8080/",
     "height": 87,
     "referenced_widgets": [
      "c22fc60aa4a7496abe08ca3dbdd30a15",
      "57e98d358f57406ea6b918024805e895",
      "b0c130d1cda24c9ca3f2445c42374de2",
      "e52a853e802849809bfb1a3cfa0cf96a",
      "5dcba417dc804932b6d75f2198244741",
      "daa7a55aaf6e4b72ba4089c0632e9c16",
      "e3f5aa0168b44bf9b09bde03f4149041",
      "7a6b4d009ca0435bb4d69b22b28801fa",
      "bcc6af68ed8940e2a005109b1c247928",
      "c9efdf26609f4817b2a73850c8c5eec5",
      "38cf7a8d4b5a48a588e0be556b44f923"
     ]
    },
    "id": "thARA7bAhEkX",
    "outputId": "20a8e4e5-e2e2-4575-d18b-901f17220f63"
   },
   "outputs": [
    {
     "data": {
      "application/vnd.jupyter.widget-view+json": {
       "model_id": "c5bd3c602efd4cf4a86dbb0b659b1d5e",
       "version_major": 2,
       "version_minor": 0
      },
      "text/plain": [
       "Downloading builder script:   0%|          | 0.00/5.19k [00:00<?, ?B/s]"
      ]
     },
     "metadata": {},
     "output_type": "display_data"
    },
    {
     "data": {
      "application/vnd.jupyter.widget-view+json": {
       "model_id": "13530c4aa49044c98888b7f9db626b7b",
       "version_major": 2,
       "version_minor": 0
      },
      "text/plain": [
       "Downloading metadata:   0%|          | 0.00/1.91k [00:00<?, ?B/s]"
      ]
     },
     "metadata": {},
     "output_type": "display_data"
    },
    {
     "data": {
      "application/vnd.jupyter.widget-view+json": {
       "model_id": "2060bf17ea4c4b1aa9abd1c605fa4e5f",
       "version_major": 2,
       "version_minor": 0
      },
      "text/plain": [
       "Downloading readme:   0%|          | 0.00/15.5k [00:00<?, ?B/s]"
      ]
     },
     "metadata": {},
     "output_type": "display_data"
    },
    {
     "name": "stdout",
     "output_type": "stream",
     "text": [
      "Downloading and preparing dataset cuad/default to /root/.cache/huggingface/datasets/cuad/default/1.0.0/01ed7dc61ab84230462731422e77cbb6f54ea8590b22a2d881b594f4d7f3746c...\n"
     ]
    },
    {
     "data": {
      "application/vnd.jupyter.widget-view+json": {
       "model_id": "118bc31fff2346e796d321164cfeb499",
       "version_major": 2,
       "version_minor": 0
      },
      "text/plain": [
       "Downloading data:   0%|          | 0.00/18.3M [00:00<?, ?B/s]"
      ]
     },
     "metadata": {},
     "output_type": "display_data"
    },
    {
     "data": {
      "application/vnd.jupyter.widget-view+json": {
       "model_id": "",
       "version_major": 2,
       "version_minor": 0
      },
      "text/plain": [
       "Generating train split:   0%|          | 0/22450 [00:00<?, ? examples/s]"
      ]
     },
     "metadata": {},
     "output_type": "display_data"
    },
    {
     "data": {
      "application/vnd.jupyter.widget-view+json": {
       "model_id": "",
       "version_major": 2,
       "version_minor": 0
      },
      "text/plain": [
       "Generating test split:   0%|          | 0/4182 [00:00<?, ? examples/s]"
      ]
     },
     "metadata": {},
     "output_type": "display_data"
    },
    {
     "name": "stdout",
     "output_type": "stream",
     "text": [
      "Dataset cuad downloaded and prepared to /root/.cache/huggingface/datasets/cuad/default/1.0.0/01ed7dc61ab84230462731422e77cbb6f54ea8590b22a2d881b594f4d7f3746c. Subsequent calls will reuse this data.\n"
     ]
    },
    {
     "data": {
      "application/vnd.jupyter.widget-view+json": {
       "model_id": "1f2717929f5042738d3dff6036cf9179",
       "version_major": 2,
       "version_minor": 0
      },
      "text/plain": [
       "  0%|          | 0/2 [00:00<?, ?it/s]"
      ]
     },
     "metadata": {},
     "output_type": "display_data"
    }
   ],
   "source": [
    "from datasets import load_dataset\n",
    "import pandas as pd\n",
    "dataset = load_dataset(\"cuad\")"
   ]
  },
  {
   "cell_type": "code",
   "execution_count": 5,
   "metadata": {
    "id": "1MgQZMV7hpd1"
   },
   "outputs": [],
   "source": [
    "#since we only require the title and context data we can merge train and test to use complete set\n",
    "df = dataset['train'].to_pandas()\n",
    "df_test = dataset['test'].to_pandas()\n",
    "df = pd.concat([df,df_test],ignore_index=True)"
   ]
  },
  {
   "cell_type": "code",
   "execution_count": 8,
   "metadata": {
    "colab": {
     "base_uri": "https://localhost:8080/"
    },
    "id": "F9QPcG_u0f3a",
    "outputId": "9551faec-b57e-4c04-f9f2-a4103379c366"
   },
   "outputs": [
    {
     "data": {
      "text/plain": [
       "Index(['id', 'title', 'context', 'question', 'answers'], dtype='object')"
      ]
     },
     "execution_count": 8,
     "metadata": {},
     "output_type": "execute_result"
    }
   ],
   "source": [
    "df.columns"
   ]
  },
  {
   "cell_type": "code",
   "execution_count": 12,
   "metadata": {
    "id": "2WOIWFB81i_c"
   },
   "outputs": [],
   "source": [
    "import re\n",
    "\n",
    "#Remove punctuations only from title and remove whitespace and newline chars from both context and title\n",
    "def preprocess(text,title):\n",
    "    if title:\n",
    "        text = re.sub(r'[^\\w\\s]', ' ', text)\n",
    "    text = re.sub(r'\\s+', ' ', text)\n",
    "    text = re.sub(r'\\n', ' ', text)\n",
    "    text = text.lower()\n",
    "    return text"
   ]
  },
  {
   "cell_type": "code",
   "execution_count": 15,
   "metadata": {
    "colab": {
     "base_uri": "https://localhost:8080/"
    },
    "id": "wsbA2hwQ6xYC",
    "outputId": "2e291b5d-2a17-4cea-d13d-1b179f2f7e8a"
   },
   "outputs": [
    {
     "data": {
      "text/plain": [
       "id          0\n",
       "title       0\n",
       "context     0\n",
       "question    0\n",
       "answers     0\n",
       "dtype: int64"
      ]
     },
     "execution_count": 15,
     "metadata": {},
     "output_type": "execute_result"
    }
   ],
   "source": [
    "df.isnull().sum()"
   ]
  },
  {
   "cell_type": "code",
   "execution_count": 16,
   "metadata": {
    "colab": {
     "base_uri": "https://localhost:8080/"
    },
    "id": "TmxgkLx4VvhA",
    "outputId": "92e92344-ebcd-493e-f5a7-79886bbbc101"
   },
   "outputs": [
    {
     "data": {
      "text/plain": [
       "26632"
      ]
     },
     "execution_count": 16,
     "metadata": {},
     "output_type": "execute_result"
    }
   ],
   "source": [
    "len(df)"
   ]
  },
  {
   "cell_type": "code",
   "execution_count": 17,
   "metadata": {
    "id": "M_3-vB84Vm57"
   },
   "outputs": [],
   "source": [
    "#CUAD Dataset has same documents with different QnA pairs, we need only unique documents\n",
    "df.drop_duplicates(subset='context',inplace=True)"
   ]
  },
  {
   "cell_type": "code",
   "execution_count": 18,
   "metadata": {
    "colab": {
     "base_uri": "https://localhost:8080/"
    },
    "id": "xlrHuJH4Vw7V",
    "outputId": "3ac34074-67bd-4530-8998-eda105f37943"
   },
   "outputs": [
    {
     "data": {
      "text/plain": [
       "509"
      ]
     },
     "execution_count": 18,
     "metadata": {},
     "output_type": "execute_result"
    }
   ],
   "source": [
    "len(df)"
   ]
  },
  {
   "cell_type": "code",
   "execution_count": 19,
   "metadata": {
    "id": "i4twn3GE6jsa"
   },
   "outputs": [],
   "source": [
    "#preprocessing\n",
    "df['title_processed'] = df.apply(lambda x: preprocess(x['title'],True),axis=1)\n",
    "df['context_processed'] = df.apply(lambda x: preprocess(x['context'],False),axis=1)"
   ]
  },
  {
   "cell_type": "code",
   "execution_count": 20,
   "metadata": {
    "colab": {
     "base_uri": "https://localhost:8080/",
     "height": 35
    },
    "id": "7EwZDFrQ8jrK",
    "outputId": "3b1549bc-048d-46db-a76c-2807f6504266"
   },
   "outputs": [
    {
     "data": {
      "text/plain": [
       "'LIMEENERGYCO_09_09_1999-EX-10-DISTRIBUTOR AGREEMENT'"
      ]
     },
     "execution_count": 20,
     "metadata": {},
     "output_type": "execute_result"
    }
   ],
   "source": [
    "df['title'][0]"
   ]
  },
  {
   "cell_type": "code",
   "execution_count": 21,
   "metadata": {
    "colab": {
     "base_uri": "https://localhost:8080/",
     "height": 1000
    },
    "id": "KLy1emCzV5u-",
    "outputId": "84dd4bc9-0b33-4f6a-f98e-274f632e449f",
    "scrolled": true
   },
   "outputs": [
    {
     "data": {
      "text/html": [
       "<div>\n",
       "<style scoped>\n",
       "    .dataframe tbody tr th:only-of-type {\n",
       "        vertical-align: middle;\n",
       "    }\n",
       "\n",
       "    .dataframe tbody tr th {\n",
       "        vertical-align: top;\n",
       "    }\n",
       "\n",
       "    .dataframe thead th {\n",
       "        text-align: right;\n",
       "    }\n",
       "</style>\n",
       "<table border=\"1\" class=\"dataframe\">\n",
       "  <thead>\n",
       "    <tr style=\"text-align: right;\">\n",
       "      <th></th>\n",
       "      <th>id</th>\n",
       "      <th>title</th>\n",
       "      <th>context</th>\n",
       "      <th>question</th>\n",
       "      <th>answers</th>\n",
       "      <th>title_processed</th>\n",
       "      <th>context_processed</th>\n",
       "    </tr>\n",
       "  </thead>\n",
       "  <tbody>\n",
       "    <tr>\n",
       "      <th>0</th>\n",
       "      <td>LIMEENERGYCO_09_09_1999-EX-10-DISTRIBUTOR AGRE...</td>\n",
       "      <td>LIMEENERGYCO_09_09_1999-EX-10-DISTRIBUTOR AGRE...</td>\n",
       "      <td>EXHIBIT 10.6\\n\\n                              ...</td>\n",
       "      <td>Highlight the parts (if any) of this contract ...</td>\n",
       "      <td>{'text': ['DISTRIBUTOR AGREEMENT'], 'answer_st...</td>\n",
       "      <td>limeenergyco_09_09_1999 ex 10 distributor agre...</td>\n",
       "      <td>exhibit 10.6 distributor agreement this distri...</td>\n",
       "    </tr>\n",
       "    <tr>\n",
       "      <th>68</th>\n",
       "      <td>WHITESMOKE,INC_11_08_2011-EX-10.26-PROMOTION A...</td>\n",
       "      <td>WHITESMOKE,INC_11_08_2011-EX-10.26-PROMOTION A...</td>\n",
       "      <td>Exhibit 10.26    CONFIDENTIAL TREATMENT HAS BE...</td>\n",
       "      <td>Highlight the parts (if any) of this contract ...</td>\n",
       "      <td>{'text': ['Promotion and Distribution Agreemen...</td>\n",
       "      <td>whitesmoke inc_11_08_2011 ex 10 26 promotion a...</td>\n",
       "      <td>exhibit 10.26 confidential treatment has been ...</td>\n",
       "    </tr>\n",
       "    <tr>\n",
       "      <th>124</th>\n",
       "      <td>NELNETINC_04_08_2020-EX-1-JOINT FILING AGREEME...</td>\n",
       "      <td>NELNETINC_04_08_2020-EX-1-JOINT FILING AGREEMENT</td>\n",
       "      <td>Exhibit 1\\n\\nJOINT FILING AGREEMENT\\n\\nThe und...</td>\n",
       "      <td>Highlight the parts (if any) of this contract ...</td>\n",
       "      <td>{'text': ['JOINT FILING AGREEMENT'], 'answer_s...</td>\n",
       "      <td>nelnetinc_04_08_2020 ex 1 joint filing agreement</td>\n",
       "      <td>exhibit 1 joint filing agreement the undersign...</td>\n",
       "    </tr>\n",
       "    <tr>\n",
       "      <th>166</th>\n",
       "      <td>ADAMSGOLFINC_03_21_2005-EX-10.17-ENDORSEMENT A...</td>\n",
       "      <td>ADAMSGOLFINC_03_21_2005-EX-10.17-ENDORSEMENT A...</td>\n",
       "      <td>REDACTED COPY\\n\\nCONFIDENTIAL TREATMENT REQUES...</td>\n",
       "      <td>Highlight the parts (if any) of this contract ...</td>\n",
       "      <td>{'text': ['ENDORSEMENT AGREEMENT'], 'answer_st...</td>\n",
       "      <td>adamsgolfinc_03_21_2005 ex 10 17 endorsement a...</td>\n",
       "      <td>redacted copy confidential treatment requested...</td>\n",
       "    </tr>\n",
       "    <tr>\n",
       "      <th>217</th>\n",
       "      <td>KIROMICBIOPHARMA,INC_05_11_2020-EX-10.23-CONSU...</td>\n",
       "      <td>KIROMICBIOPHARMA,INC_05_11_2020-EX-10.23-CONSU...</td>\n",
       "      <td>Exhibit 10.23 Corporate Address Fannin South P...</td>\n",
       "      <td>Highlight the parts (if any) of this contract ...</td>\n",
       "      <td>{'text': ['CONSULTING AGREEMENT'], 'answer_sta...</td>\n",
       "      <td>kiromicbiopharma inc_05_11_2020 ex 10 23 consu...</td>\n",
       "      <td>exhibit 10.23 corporate address fannin south p...</td>\n",
       "    </tr>\n",
       "    <tr>\n",
       "      <th>...</th>\n",
       "      <td>...</td>\n",
       "      <td>...</td>\n",
       "      <td>...</td>\n",
       "      <td>...</td>\n",
       "      <td>...</td>\n",
       "      <td>...</td>\n",
       "      <td>...</td>\n",
       "    </tr>\n",
       "    <tr>\n",
       "      <th>26427</th>\n",
       "      <td>ALCOSTORESINC_12_14_2005-EX-10.26-AGENCY AGREE...</td>\n",
       "      <td>ALCOSTORESINC_12_14_2005-EX-10.26-AGENCY AGREE...</td>\n",
       "      <td>Exhibit 10.26\\n\\nAGENCY AGREEMENT\\n\\nTHIS AGEN...</td>\n",
       "      <td>Highlight the parts (if any) of this contract ...</td>\n",
       "      <td>{'text': ['AGENCY AGREEMENT'], 'answer_start':...</td>\n",
       "      <td>alcostoresinc_12_14_2005 ex 10 26 agency agree...</td>\n",
       "      <td>exhibit 10.26 agency agreement this agency agr...</td>\n",
       "    </tr>\n",
       "    <tr>\n",
       "      <th>26468</th>\n",
       "      <td>INGEVITYCORP_05_16_2016-EX-10.5-INTELLECTUAL P...</td>\n",
       "      <td>INGEVITYCORP_05_16_2016-EX-10.5-INTELLECTUAL P...</td>\n",
       "      <td>Exhibit 10.5   INTELLECTUAL PROPERTY AGREEMENT...</td>\n",
       "      <td>Highlight the parts (if any) of this contract ...</td>\n",
       "      <td>{'text': ['INTELLECTUAL PROPERTY AGREEMENT'], ...</td>\n",
       "      <td>ingevitycorp_05_16_2016 ex 10 5 intellectual p...</td>\n",
       "      <td>exhibit 10.5 intellectual property agreement t...</td>\n",
       "    </tr>\n",
       "    <tr>\n",
       "      <th>26509</th>\n",
       "      <td>NOVOINTEGRATEDSCIENCES,INC_12_23_2019-EX-10.1-...</td>\n",
       "      <td>NOVOINTEGRATEDSCIENCES,INC_12_23_2019-EX-10.1-...</td>\n",
       "      <td>Exhibit 10.1 JOINT VENTURE AGREEMENT BETWEEN N...</td>\n",
       "      <td>Highlight the parts (if any) of this contract ...</td>\n",
       "      <td>{'text': ['JOINT VENTURE AGREEMENT'], 'answer_...</td>\n",
       "      <td>novointegratedsciences inc_12_23_2019 ex 10 1 ...</td>\n",
       "      <td>exhibit 10.1 joint venture agreement between n...</td>\n",
       "    </tr>\n",
       "    <tr>\n",
       "      <th>26550</th>\n",
       "      <td>XinhuaSportsEntertainmentLtd_20070221_F-1_EX-9...</td>\n",
       "      <td>XinhuaSportsEntertainmentLtd_20070221_F-1_EX-9...</td>\n",
       "      <td>EXHIBIT 99.4\\n\\n                            DA...</td>\n",
       "      <td>Highlight the parts (if any) of this contract ...</td>\n",
       "      <td>{'text': ['CONTENT LICENSE AGREEMENT'], 'answe...</td>\n",
       "      <td>xinhuasportsentertainmentltd_20070221_f 1_ex 9...</td>\n",
       "      <td>exhibit 99.4 dated 15th december 2001 china ec...</td>\n",
       "    </tr>\n",
       "    <tr>\n",
       "      <th>26591</th>\n",
       "      <td>MERITLIFEINSURANCECO_06_19_2020-EX-10.(XIV)-MA...</td>\n",
       "      <td>MERITLIFEINSURANCECO_06_19_2020-EX-10.(XIV)-MA...</td>\n",
       "      <td>Exhibit 10(xiv)\\n\\nMASTER SERVICES AGREEMENT B...</td>\n",
       "      <td>Highlight the parts (if any) of this contract ...</td>\n",
       "      <td>{'text': ['MASTER SERVICES AGREEMENT ('], 'ans...</td>\n",
       "      <td>meritlifeinsuranceco_06_19_2020 ex 10 xiv mast...</td>\n",
       "      <td>exhibit 10(xiv) master services agreement betw...</td>\n",
       "    </tr>\n",
       "  </tbody>\n",
       "</table>\n",
       "<p>509 rows × 7 columns</p>\n",
       "</div>"
      ],
      "text/plain": [
       "                                                      id  \\\n",
       "0      LIMEENERGYCO_09_09_1999-EX-10-DISTRIBUTOR AGRE...   \n",
       "68     WHITESMOKE,INC_11_08_2011-EX-10.26-PROMOTION A...   \n",
       "124    NELNETINC_04_08_2020-EX-1-JOINT FILING AGREEME...   \n",
       "166    ADAMSGOLFINC_03_21_2005-EX-10.17-ENDORSEMENT A...   \n",
       "217    KIROMICBIOPHARMA,INC_05_11_2020-EX-10.23-CONSU...   \n",
       "...                                                  ...   \n",
       "26427  ALCOSTORESINC_12_14_2005-EX-10.26-AGENCY AGREE...   \n",
       "26468  INGEVITYCORP_05_16_2016-EX-10.5-INTELLECTUAL P...   \n",
       "26509  NOVOINTEGRATEDSCIENCES,INC_12_23_2019-EX-10.1-...   \n",
       "26550  XinhuaSportsEntertainmentLtd_20070221_F-1_EX-9...   \n",
       "26591  MERITLIFEINSURANCECO_06_19_2020-EX-10.(XIV)-MA...   \n",
       "\n",
       "                                                   title  \\\n",
       "0      LIMEENERGYCO_09_09_1999-EX-10-DISTRIBUTOR AGRE...   \n",
       "68     WHITESMOKE,INC_11_08_2011-EX-10.26-PROMOTION A...   \n",
       "124     NELNETINC_04_08_2020-EX-1-JOINT FILING AGREEMENT   \n",
       "166    ADAMSGOLFINC_03_21_2005-EX-10.17-ENDORSEMENT A...   \n",
       "217    KIROMICBIOPHARMA,INC_05_11_2020-EX-10.23-CONSU...   \n",
       "...                                                  ...   \n",
       "26427  ALCOSTORESINC_12_14_2005-EX-10.26-AGENCY AGREE...   \n",
       "26468  INGEVITYCORP_05_16_2016-EX-10.5-INTELLECTUAL P...   \n",
       "26509  NOVOINTEGRATEDSCIENCES,INC_12_23_2019-EX-10.1-...   \n",
       "26550  XinhuaSportsEntertainmentLtd_20070221_F-1_EX-9...   \n",
       "26591  MERITLIFEINSURANCECO_06_19_2020-EX-10.(XIV)-MA...   \n",
       "\n",
       "                                                 context  \\\n",
       "0      EXHIBIT 10.6\\n\\n                              ...   \n",
       "68     Exhibit 10.26    CONFIDENTIAL TREATMENT HAS BE...   \n",
       "124    Exhibit 1\\n\\nJOINT FILING AGREEMENT\\n\\nThe und...   \n",
       "166    REDACTED COPY\\n\\nCONFIDENTIAL TREATMENT REQUES...   \n",
       "217    Exhibit 10.23 Corporate Address Fannin South P...   \n",
       "...                                                  ...   \n",
       "26427  Exhibit 10.26\\n\\nAGENCY AGREEMENT\\n\\nTHIS AGEN...   \n",
       "26468  Exhibit 10.5   INTELLECTUAL PROPERTY AGREEMENT...   \n",
       "26509  Exhibit 10.1 JOINT VENTURE AGREEMENT BETWEEN N...   \n",
       "26550  EXHIBIT 99.4\\n\\n                            DA...   \n",
       "26591  Exhibit 10(xiv)\\n\\nMASTER SERVICES AGREEMENT B...   \n",
       "\n",
       "                                                question  \\\n",
       "0      Highlight the parts (if any) of this contract ...   \n",
       "68     Highlight the parts (if any) of this contract ...   \n",
       "124    Highlight the parts (if any) of this contract ...   \n",
       "166    Highlight the parts (if any) of this contract ...   \n",
       "217    Highlight the parts (if any) of this contract ...   \n",
       "...                                                  ...   \n",
       "26427  Highlight the parts (if any) of this contract ...   \n",
       "26468  Highlight the parts (if any) of this contract ...   \n",
       "26509  Highlight the parts (if any) of this contract ...   \n",
       "26550  Highlight the parts (if any) of this contract ...   \n",
       "26591  Highlight the parts (if any) of this contract ...   \n",
       "\n",
       "                                                 answers  \\\n",
       "0      {'text': ['DISTRIBUTOR AGREEMENT'], 'answer_st...   \n",
       "68     {'text': ['Promotion and Distribution Agreemen...   \n",
       "124    {'text': ['JOINT FILING AGREEMENT'], 'answer_s...   \n",
       "166    {'text': ['ENDORSEMENT AGREEMENT'], 'answer_st...   \n",
       "217    {'text': ['CONSULTING AGREEMENT'], 'answer_sta...   \n",
       "...                                                  ...   \n",
       "26427  {'text': ['AGENCY AGREEMENT'], 'answer_start':...   \n",
       "26468  {'text': ['INTELLECTUAL PROPERTY AGREEMENT'], ...   \n",
       "26509  {'text': ['JOINT VENTURE AGREEMENT'], 'answer_...   \n",
       "26550  {'text': ['CONTENT LICENSE AGREEMENT'], 'answe...   \n",
       "26591  {'text': ['MASTER SERVICES AGREEMENT ('], 'ans...   \n",
       "\n",
       "                                         title_processed  \\\n",
       "0      limeenergyco_09_09_1999 ex 10 distributor agre...   \n",
       "68     whitesmoke inc_11_08_2011 ex 10 26 promotion a...   \n",
       "124     nelnetinc_04_08_2020 ex 1 joint filing agreement   \n",
       "166    adamsgolfinc_03_21_2005 ex 10 17 endorsement a...   \n",
       "217    kiromicbiopharma inc_05_11_2020 ex 10 23 consu...   \n",
       "...                                                  ...   \n",
       "26427  alcostoresinc_12_14_2005 ex 10 26 agency agree...   \n",
       "26468  ingevitycorp_05_16_2016 ex 10 5 intellectual p...   \n",
       "26509  novointegratedsciences inc_12_23_2019 ex 10 1 ...   \n",
       "26550  xinhuasportsentertainmentltd_20070221_f 1_ex 9...   \n",
       "26591  meritlifeinsuranceco_06_19_2020 ex 10 xiv mast...   \n",
       "\n",
       "                                       context_processed  \n",
       "0      exhibit 10.6 distributor agreement this distri...  \n",
       "68     exhibit 10.26 confidential treatment has been ...  \n",
       "124    exhibit 1 joint filing agreement the undersign...  \n",
       "166    redacted copy confidential treatment requested...  \n",
       "217    exhibit 10.23 corporate address fannin south p...  \n",
       "...                                                  ...  \n",
       "26427  exhibit 10.26 agency agreement this agency agr...  \n",
       "26468  exhibit 10.5 intellectual property agreement t...  \n",
       "26509  exhibit 10.1 joint venture agreement between n...  \n",
       "26550  exhibit 99.4 dated 15th december 2001 china ec...  \n",
       "26591  exhibit 10(xiv) master services agreement betw...  \n",
       "\n",
       "[509 rows x 7 columns]"
      ]
     },
     "execution_count": 21,
     "metadata": {},
     "output_type": "execute_result"
    }
   ],
   "source": [
    "df"
   ]
  },
  {
   "cell_type": "code",
   "execution_count": 22,
   "metadata": {
    "id": "u6iL3wqrh3yi"
   },
   "outputs": [],
   "source": [
    "import cohere\n",
    "# co = cohere.Client('ZGZyUAQN28WdDqOtiO6WaFRv7jMts41VNsMEEJhx')\n",
    "def callable_embed(sentences):\n",
    "    co = cohere.Client('enter_api_key')\n",
    "    response = co.embed(\n",
    "        model='multilingual-22-12',\n",
    "        texts=sentences)\n",
    "    return response.embeddings"
   ]
  },
  {
   "cell_type": "code",
   "execution_count": 25,
   "metadata": {
    "id": "zOPhbQyHWAHc"
   },
   "outputs": [],
   "source": [
    "# we are using free tier of cohere api which lets us use 100 calls to embedding api per minute hence we need\n",
    "# following functions to overcome ratelimit\n",
    "from itertools import islice\n",
    "import aiohttp\n",
    "import asyncio\n",
    "import json\n",
    "from tqdm.notebook import tqdm\n",
    "tqdm.pandas()\n",
    "import time\n",
    "\n",
    "def chunked_iterable(iterable, chunk_size):\n",
    "    it = iter(iterable)\n",
    "    while True:\n",
    "        chunk = list(islice(it, chunk_size))\n",
    "        if not chunk:\n",
    "            break\n",
    "        yield chunk\n",
    "        \n",
    "def get_collection_embeddings(str_list):\n",
    "    embeddings = [] \n",
    "    max_sentences = 95\n",
    "    \n",
    "    for str_list_chunk in tqdm(chunked_iterable(str_list, max_sentences)):\n",
    "        results = callable_embed(str_list_chunk)\n",
    "        time.sleep(61)\n",
    "        embeddings.extend(results)\n",
    "    \n",
    "    return embeddings"
   ]
  },
  {
   "cell_type": "code",
   "execution_count": 27,
   "metadata": {
    "id": "eIKa2TcJXn5R"
   },
   "outputs": [],
   "source": [
    "# we need to count number of tokens to send to embedding api as multilingual model truncates sequence length \n",
    "# greater than 512\n",
    "def wordcount(text):\n",
    "    x = text.split(' ')\n",
    "    return len(x)"
   ]
  },
  {
   "cell_type": "code",
   "execution_count": 28,
   "metadata": {
    "id": "xUsTnIxCXwHZ"
   },
   "outputs": [],
   "source": [
    "df['context_len'] = df['context_processed'].apply(wordcount)"
   ]
  },
  {
   "cell_type": "code",
   "execution_count": 29,
   "metadata": {
    "id": "IOUc11llX2xL"
   },
   "outputs": [],
   "source": [
    "# separating out >512 seq to explode into smaller chunks for embedding\n",
    "# this will match partial documents later in neural search where we can use the unique ones to create context for QA\n",
    "df_process = df[df['context_len']>512]\n",
    "df = df[df['context_len']<512]"
   ]
  },
  {
   "cell_type": "code",
   "execution_count": 30,
   "metadata": {
    "id": "hJ3XPHtVc1nC"
   },
   "outputs": [],
   "source": [
    "df.reset_index(inplace=True,drop=True)\n",
    "df_process.reset_index(inplace=True,drop=True)"
   ]
  },
  {
   "cell_type": "code",
   "execution_count": 31,
   "metadata": {
    "colab": {
     "base_uri": "https://localhost:8080/"
    },
    "id": "jpCTWKz5ae9R",
    "outputId": "b36019e1-d289-44ce-e355-f8ae6e5dd579"
   },
   "outputs": [
    {
     "data": {
      "text/plain": [
       "482"
      ]
     },
     "execution_count": 31,
     "metadata": {},
     "output_type": "execute_result"
    }
   ],
   "source": [
    "len(df_process)"
   ]
  },
  {
   "cell_type": "code",
   "execution_count": 32,
   "metadata": {
    "id": "gOT4AdSQczdH"
   },
   "outputs": [],
   "source": [
    "# If seq len > 512 explode into multiple observations for context_processed\n",
    "def explode_text(df, col_name, max_words):\n",
    "    new_rows = []\n",
    "    for index, row in df.iterrows():\n",
    "        words = row[col_name].split()\n",
    "        if len(words) > max_words:\n",
    "            for i in range(0, len(words), max_words):\n",
    "                new_row = row.copy()\n",
    "                new_row[col_name] = ' '.join(words[i:i+max_words])\n",
    "                new_rows.append(new_row)\n",
    "        else:\n",
    "            new_rows.append(row)\n",
    "    return pd.DataFrame(new_rows)"
   ]
  },
  {
   "cell_type": "code",
   "execution_count": 33,
   "metadata": {
    "id": "dk6jGzH4eHk3"
   },
   "outputs": [],
   "source": [
    "df_exploded = explode_text(df_process, 'context_processed', 512)"
   ]
  },
  {
   "cell_type": "code",
   "execution_count": 34,
   "metadata": {
    "id": "0x8OuqFKeOn5"
   },
   "outputs": [],
   "source": [
    "df_exploded.reset_index(inplace=True,drop=True)"
   ]
  },
  {
   "cell_type": "code",
   "execution_count": 35,
   "metadata": {
    "id": "muxQm112ptbJ"
   },
   "outputs": [],
   "source": [
    "# merge the processed docs\n",
    "df = pd.concat([df,df_exploded])"
   ]
  },
  {
   "cell_type": "code",
   "execution_count": 36,
   "metadata": {
    "id": "cJYfbHGVp1oM"
   },
   "outputs": [],
   "source": [
    "df.reset_index(inplace=True,drop=True)"
   ]
  },
  {
   "cell_type": "code",
   "execution_count": 37,
   "metadata": {
    "id": "KKt-SAq7p6u9"
   },
   "outputs": [],
   "source": [
    "df['context_len'] = df['context_processed'].apply(wordcount)\n",
    "df['title_len'] = df['title_processed'].apply(wordcount)"
   ]
  },
  {
   "cell_type": "code",
   "execution_count": 38,
   "metadata": {
    "colab": {
     "base_uri": "https://localhost:8080/",
     "height": 49
    },
    "id": "45QFqjstp86X",
    "outputId": "b55a9bf0-46d6-41e9-8fc5-d8b7b870aa32"
   },
   "outputs": [
    {
     "data": {
      "text/html": [
       "<div>\n",
       "<style scoped>\n",
       "    .dataframe tbody tr th:only-of-type {\n",
       "        vertical-align: middle;\n",
       "    }\n",
       "\n",
       "    .dataframe tbody tr th {\n",
       "        vertical-align: top;\n",
       "    }\n",
       "\n",
       "    .dataframe thead th {\n",
       "        text-align: right;\n",
       "    }\n",
       "</style>\n",
       "<table border=\"1\" class=\"dataframe\">\n",
       "  <thead>\n",
       "    <tr style=\"text-align: right;\">\n",
       "      <th></th>\n",
       "      <th>id</th>\n",
       "      <th>title</th>\n",
       "      <th>context</th>\n",
       "      <th>question</th>\n",
       "      <th>answers</th>\n",
       "      <th>title_processed</th>\n",
       "      <th>context_processed</th>\n",
       "      <th>context_len</th>\n",
       "      <th>title_len</th>\n",
       "    </tr>\n",
       "  </thead>\n",
       "  <tbody>\n",
       "  </tbody>\n",
       "</table>\n",
       "</div>"
      ],
      "text/plain": [
       "Empty DataFrame\n",
       "Columns: [id, title, context, question, answers, title_processed, context_processed, context_len, title_len]\n",
       "Index: []"
      ]
     },
     "execution_count": 38,
     "metadata": {},
     "output_type": "execute_result"
    }
   ],
   "source": [
    "df[df['title_len']>512]"
   ]
  },
  {
   "cell_type": "code",
   "execution_count": 38,
   "metadata": {
    "colab": {
     "base_uri": "https://localhost:8080/",
     "height": 49
    },
    "id": "45QFqjstp86X",
    "outputId": "b55a9bf0-46d6-41e9-8fc5-d8b7b870aa32"
   },
   "outputs": [
    {
     "data": {
      "text/html": [
       "<div>\n",
       "<style scoped>\n",
       "    .dataframe tbody tr th:only-of-type {\n",
       "        vertical-align: middle;\n",
       "    }\n",
       "\n",
       "    .dataframe tbody tr th {\n",
       "        vertical-align: top;\n",
       "    }\n",
       "\n",
       "    .dataframe thead th {\n",
       "        text-align: right;\n",
       "    }\n",
       "</style>\n",
       "<table border=\"1\" class=\"dataframe\">\n",
       "  <thead>\n",
       "    <tr style=\"text-align: right;\">\n",
       "      <th></th>\n",
       "      <th>id</th>\n",
       "      <th>title</th>\n",
       "      <th>context</th>\n",
       "      <th>question</th>\n",
       "      <th>answers</th>\n",
       "      <th>title_processed</th>\n",
       "      <th>context_processed</th>\n",
       "      <th>context_len</th>\n",
       "      <th>title_len</th>\n",
       "    </tr>\n",
       "  </thead>\n",
       "  <tbody>\n",
       "  </tbody>\n",
       "</table>\n",
       "</div>"
      ],
      "text/plain": [
       "Empty DataFrame\n",
       "Columns: [id, title, context, question, answers, title_processed, context_processed, context_len, title_len]\n",
       "Index: []"
      ]
     },
     "execution_count": 38,
     "metadata": {},
     "output_type": "execute_result"
    }
   ],
   "source": [
    "df[df['context_len']>512]"
   ]
  },
  {
   "cell_type": "code",
   "execution_count": 39,
   "metadata": {
    "colab": {
     "base_uri": "https://localhost:8080/",
     "height": 326,
     "referenced_widgets": [
      "e67239d71fe44716a056aab5bdf3dd91",
      "b25c62f19f24430798b343820df38b62",
      "1c6fee663fc7424b851e1b0c13dd9510",
      "7c02585a06cb409d97f8532eda140797",
      "19d0e86909634d429bbe3fa364e00470",
      "1560a4cae3d14896baddb9ee89b973a7",
      "ef691a6c89b54759aa117ae762274fde",
      "175a3ad0efc348c69ec2782c3e670144",
      "6e322af8e65441a9a7453e714ca4095d",
      "79d14ac4aba34b94b56be35d369173c6",
      "fc71a71cab1c4964972925c3388639a0"
     ]
    },
    "id": "uDG2E6zMXVGD",
    "outputId": "026d261c-ae57-4897-c9dc-39cbef77a360"
   },
   "outputs": [
    {
     "data": {
      "application/vnd.jupyter.widget-view+json": {
       "model_id": "2a8afb2769e647f9bb902c9a844f3e18",
       "version_major": 2,
       "version_minor": 0
      },
      "text/plain": [
       "0it [00:00, ?it/s]"
      ]
     },
     "metadata": {},
     "output_type": "display_data"
    }
   ],
   "source": [
    "#call cohere multilingual model embedding api to create embeddings\n",
    "embeddings_title = get_collection_attributes(list(df['title_processed']))"
   ]
  },
  {
   "cell_type": "code",
   "execution_count": 40,
   "metadata": {
    "id": "ZYPhgRBuqD1h"
   },
   "outputs": [
    {
     "data": {
      "application/vnd.jupyter.widget-view+json": {
       "model_id": "8b5073846d9c4a8bba7b765c92a23425",
       "version_major": 2,
       "version_minor": 0
      },
      "text/plain": [
       "0it [00:00, ?it/s]"
      ]
     },
     "metadata": {},
     "output_type": "display_data"
    }
   ],
   "source": [
    "#call cohere multilingual model embedding api to create embeddings\n",
    "embeddings_context = get_collection_attributes(list(df['context_processed']))"
   ]
  },
  {
   "cell_type": "code",
   "execution_count": 47,
   "metadata": {},
   "outputs": [
    {
     "data": {
      "text/plain": [
       "8085"
      ]
     },
     "execution_count": 47,
     "metadata": {},
     "output_type": "execute_result"
    }
   ],
   "source": [
    "len(list(df['context_processed']))"
   ]
  },
  {
   "cell_type": "code",
   "execution_count": 49,
   "metadata": {},
   "outputs": [
    {
     "data": {
      "text/plain": [
       "768"
      ]
     },
     "execution_count": 49,
     "metadata": {},
     "output_type": "execute_result"
    }
   ],
   "source": [
    "len(embeddings_title[0]) #embedding size"
   ]
  },
  {
   "cell_type": "code",
   "execution_count": 41,
   "metadata": {},
   "outputs": [],
   "source": [
    "df['embeddings_title'] = embeddings_title\n",
    "df['embeddings_context'] = embeddings_context"
   ]
  },
  {
   "cell_type": "code",
   "execution_count": 42,
   "metadata": {},
   "outputs": [],
   "source": [
    "# df.to_pickle('mlk.pkl')"
   ]
  },
  {
   "cell_type": "markdown",
   "metadata": {},
   "source": [
    "## Initiate Qdrant Client"
   ]
  },
  {
   "cell_type": "code",
   "execution_count": 171,
   "metadata": {},
   "outputs": [
    {
     "data": {
      "text/plain": [
       "True"
      ]
     },
     "execution_count": 171,
     "metadata": {},
     "output_type": "execute_result"
    }
   ],
   "source": [
    "from qdrant_client import QdrantClient\n",
    "from qdrant_client.http import models\n",
    "\n",
    "client = QdrantClient(\"enter_qdrant_host_url\", api_key=\"enter_api_key\")\n",
    "\n",
    "# client.recreate_collection(\n",
    "#     collection_name=\"cuad_semantic\",\n",
    "#     vectors_config={\n",
    "#         \"title_embeddings\": models.VectorParams(size=768, distance=models.Distance.COSINE),\n",
    "#         \"context_embeddings\": models.VectorParams(size=768, distance=models.Distance.COSINE),\n",
    "#     }\n",
    "# )\n",
    "\n",
    "client.recreate_collection(\n",
    "    collection_name=\"cuad_semantic_title\",\n",
    "    vectors_config=models.VectorParams(size=768, distance=models.Distance.COSINE)\n",
    ")\n",
    "\n",
    "client.recreate_collection(\n",
    "    collection_name=\"cuad_semantic_context\",\n",
    "    vectors_config= models.VectorParams(size=768, distance=models.Distance.COSINE)\n",
    ")"
   ]
  },
  {
   "cell_type": "markdown",
   "metadata": {},
   "source": [
    "### We will create 2 separate indexes for title and context which can be later used for selective neural search"
   ]
  },
  {
   "cell_type": "code",
   "execution_count": 172,
   "metadata": {},
   "outputs": [],
   "source": [
    "df_payload = df[['id','title','context']]"
   ]
  },
  {
   "cell_type": "code",
   "execution_count": 173,
   "metadata": {},
   "outputs": [],
   "source": [
    "embeddings_title_f = [\n",
    "    # Conversion to float is required for Qdrant\n",
    "    list(map(float, vector)) \n",
    "    for vector in embeddings_title\n",
    "]\n",
    "\n",
    "embeddings_context_f = [\n",
    "    # Conversion to float is required for Qdrant\n",
    "    list(map(float, vector)) \n",
    "    for vector in embeddings_context\n",
    "]"
   ]
  },
  {
   "cell_type": "code",
   "execution_count": 174,
   "metadata": {},
   "outputs": [],
   "source": [
    "df_payload.reset_index(inplace=True)"
   ]
  },
  {
   "cell_type": "code",
   "execution_count": 175,
   "metadata": {},
   "outputs": [],
   "source": [
    "ids = list(df_payload['index'])"
   ]
  },
  {
   "cell_type": "code",
   "execution_count": 176,
   "metadata": {},
   "outputs": [],
   "source": [
    "dict_records = df_payload.to_dict(orient='records')"
   ]
  },
  {
   "cell_type": "code",
   "execution_count": 177,
   "metadata": {},
   "outputs": [
    {
     "data": {
      "text/plain": [
       "{'index': 3,\n",
       " 'id': 'BANGIINC_05_25_2005-EX-10-Premium Managed Hosting Agreement__Document Name_0',\n",
       " 'title': 'BANGIINC_05_25_2005-EX-10-Premium Managed Hosting Agreement',\n",
       " 'context': '03/01/05\\n\\n607-1295 Richards Street   604.684.2255\\n\\nVancouver, BC V6B1B7   deep@rrt.ca   deep systems\\n\\n\\n\\n\\n\\nPremium Managed Hosting Agreement\\n\\nThis is a managed hosting agreement between AstroNutrition.com and deep systems.  The effective term is 12 months beginning March 1, 2005 and ending February 28, 2006.\\n\\nIncluded Monthly Services\\n\\nSystem Administration\\n\\nManagement of SMTP, IMAP, DNS, SQL database and HTTP server software and systems for the AstroNutrition.com domain and web site.  This includes regular off-site backups of the website itself and the database.\\n\\nChange Management\\n\\nManagement of site source code and integration of contributed software updates and bug fixes into zencart is included.\\n\\nPersonal Technical Support\\n\\n24 x 7 emergency phone support and 1-business-day email response on non-critical issues.\\n\\nIncludes a 99 percent server uptime guarantee.\\n\\nAvailable Professional Services\\n\\nProject Management\\n\\nSupport of external development is charged at a rate of $55 CAD per hour.\\n\\nCustom Software Development\\n\\nNew code enhancing the functionality of the system is charged at a rate of $55 CAD per hour.\\n\\nTerms of Agreement\\n\\nManaged hosting fees are $175 per month for a period of 12 months.  This includes up to 10 G of bandwidth, with overages at $20 for each 1 G beyond 10 in any given month. The billing cycle is the 1st of each month.\\n\\nD/WLM/717334.1\\n\\n\\n\\n\\n\\n\\n\\n- 2 -\\n\\n03/01/05\\n\\n607-1295 Richards Street   604.684.2255\\n\\nVancouver, BC V6B1B7   deep@rrt.ca   deep systems\\n\\n\\n\\n\\n\\nCo-located Facilities\\n\\nServers are co-located at 700 West Georgia in downtown Vancouver on UPS and backup generator power.\\n\\nServer Software\\n\\n- FreeBSD 5 Operating System - Apache 2 HTTP Server - MySQL 4 Database Server - AWStats Advancd Web Stats Package - WebDAV interface for external developers - Subversion Change Management System - Trac Issue Tracking System and Project Knowledge Base\\n\\n/s/ Ryan Thompson\\n\\n/s/ Chester Ku   Ryan Thompson, Deep Systems\\n\\nChester Ku, Astro Nutrition\\n\\nD/WLM/717334.1       - 2 -'}"
      ]
     },
     "execution_count": 177,
     "metadata": {},
     "output_type": "execute_result"
    }
   ],
   "source": [
    "dict_records[3]"
   ]
  },
  {
   "cell_type": "code",
   "execution_count": null,
   "metadata": {},
   "outputs": [],
   "source": [
    "# qdrant_client.upload_collection(\n",
    "#     collection_name='cuad_semantic',\n",
    "#     vectors=vectors,\n",
    "#     payload=payload,\n",
    "#     ids=None,  # Vector ids will be assigned automatically\n",
    "#     batch_size=256  # How many vectors will be uploaded in a single request?\n",
    "# )"
   ]
  },
  {
   "cell_type": "code",
   "execution_count": 178,
   "metadata": {},
   "outputs": [],
   "source": [
    "# client.delete_collection(collection_name=\"cuad_semantic\")"
   ]
  },
  {
   "cell_type": "code",
   "execution_count": 179,
   "metadata": {},
   "outputs": [],
   "source": [
    "def upsert_qdrant(idx,collection_name,embed,payload):\n",
    "    try:\n",
    "        payload_df = pd.DataFrame(columns=['id', 'title', 'context'])\n",
    "        payload_df.loc[0, :] = payload.values\n",
    "        payload = payload_df.to_dict(orient='records')\n",
    "        payload = payload[0]\n",
    "        res = client.upsert(\n",
    "        collection_name= collection_name,\n",
    "        points=[\n",
    "            models.PointStruct(\n",
    "                    id=idx,\n",
    "                    payload=payload,\n",
    "                    vector=embed\n",
    "                )\n",
    "            ]\n",
    "        )\n",
    "        if str(res.status) != 'UpdateStatus.COMPLETED':\n",
    "            print(res.status)\n",
    "            print(\"retrying\")\n",
    "            res_ret = client.upsert(\n",
    "            collection_name=collection_name,\n",
    "            points=[\n",
    "                models.PointStruct(\n",
    "                        id=idx,\n",
    "                        payload=payload,\n",
    "                        vector=embed\n",
    "                    )\n",
    "                ]\n",
    "            )\n",
    "            if str(res_ret.status) != 'UpdateStatus.COMPLETED':\n",
    "                print(f\"retry failed: {res_ret.status}\")\n",
    "            return res_ret\n",
    "        return res.status\n",
    "    except Exception as e:\n",
    "        print(e,idx)\n",
    "        return -1"
   ]
  },
  {
   "cell_type": "code",
   "execution_count": 112,
   "metadata": {},
   "outputs": [],
   "source": [
    "df.reset_index(inplace=True)"
   ]
  },
  {
   "cell_type": "code",
   "execution_count": 116,
   "metadata": {},
   "outputs": [],
   "source": [
    "df.rename({'index':'id_num'},axis=1,inplace=True)"
   ]
  },
  {
   "cell_type": "code",
   "execution_count": 180,
   "metadata": {},
   "outputs": [],
   "source": [
    "df['embeddings_title'] = embeddings_title_f\n",
    "df['embeddings_context'] = embeddings_context_f"
   ]
  },
  {
   "cell_type": "code",
   "execution_count": 181,
   "metadata": {},
   "outputs": [
    {
     "data": {
      "text/plain": [
       "Index(['id_num', 'id', 'title', 'context', 'question', 'answers',\n",
       "       'title_processed', 'context_processed', 'context_len', 'title_len',\n",
       "       'embeddings_title', 'embeddings_context', 'resp'],\n",
       "      dtype='object')"
      ]
     },
     "execution_count": 181,
     "metadata": {},
     "output_type": "execute_result"
    }
   ],
   "source": [
    "df.columns"
   ]
  },
  {
   "cell_type": "code",
   "execution_count": 121,
   "metadata": {},
   "outputs": [],
   "source": [
    "from tqdm.notebook import tqdm\n",
    "tqdm.pandas()"
   ]
  },
  {
   "cell_type": "code",
   "execution_count": null,
   "metadata": {},
   "outputs": [
    {
     "data": {
      "application/vnd.jupyter.widget-view+json": {
       "model_id": "22faabd6429542d08aa8bb009d3d75c6",
       "version_major": 2,
       "version_minor": 0
      },
      "text/plain": [
       "  0%|          | 0/8085 [00:00<?, ?it/s]"
      ]
     },
     "metadata": {},
     "output_type": "display_data"
    },
    {
     "name": "stdout",
     "output_type": "stream",
     "text": [
      "Unexpected Response: 502 (Bad Gateway)\n",
      "Raw response content:\n",
      "b'Bad Gateway' 167\n"
     ]
    }
   ],
   "source": [
    "#index title to qdrant\n",
    "df['resp_title'] = df.progress_apply(lambda x: upsert_qdrant(x['id_num'],\"cuad_semantic_title\",x['embeddings_title'],x[['id','title','context']]),axis=1)\n"
   ]
  },
  {
   "cell_type": "code",
   "execution_count": null,
   "metadata": {},
   "outputs": [],
   "source": [
    "# index context to qdrant\n",
    "df['resp_context'] = df.progress_apply(lambda x: upsert_qdrant(x['id_num'],\"cuad_semantic_context\",x['embeddings_context'],x['embeddings_context'],x[['id','title','context']]),axis=1)\n"
   ]
  },
  {
   "cell_type": "code",
   "execution_count": 160,
   "metadata": {},
   "outputs": [
    {
     "data": {
      "text/plain": [
       "UpdateStatus.COMPLETED    8085\n",
       "Name: resp, dtype: int64"
      ]
     },
     "execution_count": 160,
     "metadata": {},
     "output_type": "execute_result"
    }
   ],
   "source": [
    "df['resp'].value_counts()"
   ]
  },
  {
   "cell_type": "code",
   "execution_count": 162,
   "metadata": {},
   "outputs": [
    {
     "data": {
      "text/plain": [
       "CollectionInfo(status=<CollectionStatus.GREEN: 'green'>, optimizer_status=<OptimizersStatusOneOf.OK: 'ok'>, vectors_count=16170, indexed_vectors_count=0, points_count=8085, segments_count=2, config=CollectionConfig(params=CollectionParams(vectors={'context_embeddings': VectorParams(size=768, distance=<Distance.COSINE: 'Cosine'>), 'title_embeddings': VectorParams(size=768, distance=<Distance.COSINE: 'Cosine'>)}, shard_number=1, replication_factor=1, write_consistency_factor=1, on_disk_payload=True), hnsw_config=HnswConfig(m=16, ef_construct=100, full_scan_threshold=10000, max_indexing_threads=0, on_disk=False, payload_m=None), optimizer_config=OptimizersConfig(deleted_threshold=0.2, vacuum_min_vector_number=1000, default_segment_number=0, max_segment_size=None, memmap_threshold=None, indexing_threshold=20000, flush_interval_sec=5, max_optimization_threads=1), wal_config=WalConfig(wal_capacity_mb=32, wal_segments_ahead=0)), payload_schema={})"
      ]
     },
     "execution_count": 162,
     "metadata": {},
     "output_type": "execute_result"
    }
   ],
   "source": [
    "client.get_collection(collection_name=\"cuad_semantic_context\")"
   ]
  },
  {
   "cell_type": "code",
   "execution_count": 36,
   "metadata": {},
   "outputs": [],
   "source": [
    "from qdrant_client import QdrantClient\n",
    "from qdrant_client.http import models\n",
    "import cohere\n",
    "class NeuralSearcher:\n",
    "\n",
    "    def __init__(self, collection_name):\n",
    "        self.collection_name = collection_name\n",
    "        # initialize Qdrant client\n",
    "        self.qdrant_client = QdrantClient(\"enter_qdrant_host_url\", api_key=\"enter_api_key\")\n",
    "\n",
    "    def callable_embed(self,sentences):\n",
    "      co = cohere.Client('enter_api_key')\n",
    "      response = co.embed(\n",
    "        model='multilingual-22-12',\n",
    "        texts=[sentences])\n",
    "      r = response.embeddings\n",
    "      embeddings_title_f = [\n",
    "        # Conversion to float is required for Qdrant\n",
    "        list(map(float, vector)) \n",
    "        for vector in r\n",
    "    ]\n",
    "      return embeddings_title_f[0]\n",
    "        \n",
    "    \n",
    "    def search(self, text: str):\n",
    "        # Convert text query into vector\n",
    "        vector = self.callable_embed(text)\n",
    "        # print(vector)\n",
    "        # Use `vector` for search for closest vectors in the collection\n",
    "        search_result = self.qdrant_client.search(\n",
    "            collection_name=self.collection_name,\n",
    "            query_vector=vector,\n",
    "            query_filter=None,\n",
    "            with_payload=True,# We don't want any filters for now\n",
    "            limit=50  # 5 the most closest results is enough\n",
    "        )\n",
    "        # `search_result` contains found vector ids with similarity scores along with the stored payload\n",
    "        # In this function we are interested in payload only\n",
    "        payloads = [hit.payload for hit in search_result]\n",
    "        return payloads"
   ]
  },
  {
   "cell_type": "code",
   "execution_count": null,
   "metadata": {},
   "outputs": [],
   "source": [
    "ns = NeuralSearcher('cuad_semantic_title')\n",
    "pl = ns.search('bangi inc managed hosting agreement')"
   ]
  },
  {
   "cell_type": "code",
   "execution_count": 38,
   "metadata": {},
   "outputs": [
    {
     "data": {
      "text/plain": [
       "50"
      ]
     },
     "execution_count": 38,
     "metadata": {},
     "output_type": "execute_result"
    }
   ],
   "source": [
    "len(pl)"
   ]
  },
  {
   "cell_type": "code",
   "execution_count": 39,
   "metadata": {},
   "outputs": [
    {
     "name": "stdout",
     "output_type": "stream",
     "text": [
      "BANGIINC_05_25_2005-EX-10-Premium Managed Hosting Agreement\n",
      "VitalibisInc_20180316_8-K_EX-10.2_11100168_EX-10.2_Hosting Agreement\n",
      "VitalibisInc_20180316_8-K_EX-10.2_11100168_EX-10.2_Hosting Agreement\n",
      "VitalibisInc_20180316_8-K_EX-10.2_11100168_EX-10.2_Hosting Agreement\n",
      "VitalibisInc_20180316_8-K_EX-10.2_11100168_EX-10.2_Hosting Agreement\n",
      "VitalibisInc_20180316_8-K_EX-10.2_11100168_EX-10.2_Hosting Agreement\n",
      "VitalibisInc_20180316_8-K_EX-10.2_11100168_EX-10.2_Hosting Agreement\n",
      "VitalibisInc_20180316_8-K_EX-10.2_11100168_EX-10.2_Hosting Agreement\n",
      "VitalibisInc_20180316_8-K_EX-10.2_11100168_EX-10.2_Hosting Agreement\n",
      "VitalibisInc_20180316_8-K_EX-10.2_11100168_EX-10.2_Hosting Agreement\n",
      "VitalibisInc_20180316_8-K_EX-10.2_11100168_EX-10.2_Hosting Agreement\n",
      "VitalibisInc_20180316_8-K_EX-10.2_11100168_EX-10.2_Hosting Agreement\n",
      "VitalibisInc_20180316_8-K_EX-10.2_11100168_EX-10.2_Hosting Agreement\n",
      "VitalibisInc_20180316_8-K_EX-10.2_11100168_EX-10.2_Hosting Agreement\n",
      "VitalibisInc_20180316_8-K_EX-10.2_11100168_EX-10.2_Hosting Agreement\n",
      "REGANHOLDINGCORP_03_31_2008-EX-10-LICENSE AND HOSTING AGREEMENT\n",
      "REGANHOLDINGCORP_03_31_2008-EX-10-LICENSE AND HOSTING AGREEMENT\n",
      "REGANHOLDINGCORP_03_31_2008-EX-10-LICENSE AND HOSTING AGREEMENT\n",
      "REGANHOLDINGCORP_03_31_2008-EX-10-LICENSE AND HOSTING AGREEMENT\n",
      "REGANHOLDINGCORP_03_31_2008-EX-10-LICENSE AND HOSTING AGREEMENT\n",
      "REGANHOLDINGCORP_03_31_2008-EX-10-LICENSE AND HOSTING AGREEMENT\n",
      "REGANHOLDINGCORP_03_31_2008-EX-10-LICENSE AND HOSTING AGREEMENT\n",
      "REGANHOLDINGCORP_03_31_2008-EX-10-LICENSE AND HOSTING AGREEMENT\n",
      "REGANHOLDINGCORP_03_31_2008-EX-10-LICENSE AND HOSTING AGREEMENT\n",
      "REGANHOLDINGCORP_03_31_2008-EX-10-LICENSE AND HOSTING AGREEMENT\n",
      "REGANHOLDINGCORP_03_31_2008-EX-10-LICENSE AND HOSTING AGREEMENT\n",
      "REGANHOLDINGCORP_03_31_2008-EX-10-LICENSE AND HOSTING AGREEMENT\n",
      "REGANHOLDINGCORP_03_31_2008-EX-10-LICENSE AND HOSTING AGREEMENT\n",
      "REGANHOLDINGCORP_03_31_2008-EX-10-LICENSE AND HOSTING AGREEMENT\n",
      "REGANHOLDINGCORP_03_31_2008-EX-10-LICENSE AND HOSTING AGREEMENT\n",
      "REGANHOLDINGCORP_03_31_2008-EX-10-LICENSE AND HOSTING AGREEMENT\n",
      "REGANHOLDINGCORP_03_31_2008-EX-10-LICENSE AND HOSTING AGREEMENT\n",
      "REGANHOLDINGCORP_03_31_2008-EX-10-LICENSE AND HOSTING AGREEMENT\n",
      "GALACTICOMMTECHNOLOGIESINC_11_07_1997-EX-10.46-WEB HOSTING AGREEMENT\n",
      "PareteumCorp_20081001_8-K_EX-99.1_2654808_EX-99.1_Hosting Agreement\n",
      "PareteumCorp_20081001_8-K_EX-99.1_2654808_EX-99.1_Hosting Agreement\n",
      "PareteumCorp_20081001_8-K_EX-99.1_2654808_EX-99.1_Hosting Agreement\n",
      "PareteumCorp_20081001_8-K_EX-99.1_2654808_EX-99.1_Hosting Agreement\n",
      "PareteumCorp_20081001_8-K_EX-99.1_2654808_EX-99.1_Hosting Agreement\n",
      "PareteumCorp_20081001_8-K_EX-99.1_2654808_EX-99.1_Hosting Agreement\n",
      "PareteumCorp_20081001_8-K_EX-99.1_2654808_EX-99.1_Hosting Agreement\n",
      "PareteumCorp_20081001_8-K_EX-99.1_2654808_EX-99.1_Hosting Agreement\n",
      "PareteumCorp_20081001_8-K_EX-99.1_2654808_EX-99.1_Hosting Agreement\n",
      "PareteumCorp_20081001_8-K_EX-99.1_2654808_EX-99.1_Hosting Agreement\n",
      "PareteumCorp_20081001_8-K_EX-99.1_2654808_EX-99.1_Hosting Agreement\n",
      "PareteumCorp_20081001_8-K_EX-99.1_2654808_EX-99.1_Hosting Agreement\n",
      "PareteumCorp_20081001_8-K_EX-99.1_2654808_EX-99.1_Hosting Agreement\n",
      "PareteumCorp_20081001_8-K_EX-99.1_2654808_EX-99.1_Hosting Agreement\n",
      "PareteumCorp_20081001_8-K_EX-99.1_2654808_EX-99.1_Hosting Agreement\n",
      "PareteumCorp_20081001_8-K_EX-99.1_2654808_EX-99.1_Hosting Agreement\n"
     ]
    }
   ],
   "source": [
    "for i in pl:\n",
    "    print(i['title'])"
   ]
  },
  {
   "attachments": {},
   "cell_type": "markdown",
   "metadata": {},
   "source": [
    "## Using Langchain to call cohere's generate api which will provide natural language output"
   ]
  },
  {
   "cell_type": "code",
   "execution_count": 25,
   "metadata": {},
   "outputs": [],
   "source": [
    "from langchain import VectorDBQA\n",
    "from langchain.embeddings import CohereEmbeddings"
   ]
  },
  {
   "cell_type": "code",
   "execution_count": 26,
   "metadata": {},
   "outputs": [],
   "source": [
    "import os\n",
    "os.environ[\"COHERE_API_KEY\"] = \"enter_api_key\""
   ]
  },
  {
   "cell_type": "code",
   "execution_count": null,
   "metadata": {},
   "outputs": [],
   "source": [
    "from langchain.embeddings import CohereEmbeddings\n",
    "cohere_embed = CohereEmbeddings(cohere_api_key=\"enter_api_key\")\n",
    "from langchain.llms import Cohere\n",
    "cohere_model = Cohere(cohere_api_key=\"enter_api_key\")\n",
    "from langchain.vectorstores import Qdrant\n",
    "from langchain import VectorDBQA, OpenAI\n",
    "\n",
    "\n",
    "doc_store = Qdrant.from_texts(\n",
    "   answers_list, cohere_embed, host=\"265561d1-4edd-410c-8810-8cde70574155.us-east-1-0.aws.cloud.qdrant.io\",\n",
    "   api_key=\"3_zBqdsJ0M50ZUnBOmPB_3BKqiJKk6_cFGNsNi7BWVrD-B3o8sdbgQ\"\n",
    ")\n",
    "\n",
    "\n",
    "\n",
    "# At this stage all the possible answers are already stored in Qdrant, so we can define the whole QA chain.\n",
    "\n",
    "\n",
    "llm = cohere_model\n",
    "qa = VectorDBQA.from_chain_type(\n",
    "   llm=cohere_model,\n",
    "   chain_type=\"refine\",\n",
    "   vectorstore=doc_store,\n",
    "   return_source_documents=False,\n",
    ")\n",
    "\n",
    "\n",
    "\n",
    "\n",
    "import pandas as pd\n",
    "\n",
    "\n",
    "search_res = pd.DataFrame(pl)\n",
    "\n",
    "\n",
    "search_res.drop_duplicates(['id'], inplace=True)\n",
    "\n",
    "\n",
    "search_res.shape\n",
    "\n",
    "\n",
    "answers_list = search_res['context'].to_list()\n",
    "\n",
    "\n",
    "\n",
    "\n",
    "question = \"tell me about reganholdingcorp in March, 2008\"\n"
   ]
  }
 ],
 "metadata": {
  "colab": {
   "provenance": []
  },
  "gpuClass": "standard",
  "kernelspec": {
   "display_name": "Python 3",
   "language": "python",
   "name": "python3"
  },
  "language_info": {
   "codemirror_mode": {
    "name": "ipython",
    "version": 3
   },
   "file_extension": ".py",
   "mimetype": "text/x-python",
   "name": "python",
   "nbconvert_exporter": "python",
   "pygments_lexer": "ipython3",
   "version": "3.8.10"
  },
  "widgets": {
   "application/vnd.jupyter.widget-state+json": {
    "1560a4cae3d14896baddb9ee89b973a7": {
     "model_module": "@jupyter-widgets/base",
     "model_module_version": "1.2.0",
     "model_name": "LayoutModel",
     "state": {
      "_model_module": "@jupyter-widgets/base",
      "_model_module_version": "1.2.0",
      "_model_name": "LayoutModel",
      "_view_count": null,
      "_view_module": "@jupyter-widgets/base",
      "_view_module_version": "1.2.0",
      "_view_name": "LayoutView",
      "align_content": null,
      "align_items": null,
      "align_self": null,
      "border": null,
      "bottom": null,
      "display": null,
      "flex": null,
      "flex_flow": null,
      "grid_area": null,
      "grid_auto_columns": null,
      "grid_auto_flow": null,
      "grid_auto_rows": null,
      "grid_column": null,
      "grid_gap": null,
      "grid_row": null,
      "grid_template_areas": null,
      "grid_template_columns": null,
      "grid_template_rows": null,
      "height": null,
      "justify_content": null,
      "justify_items": null,
      "left": null,
      "margin": null,
      "max_height": null,
      "max_width": null,
      "min_height": null,
      "min_width": null,
      "object_fit": null,
      "object_position": null,
      "order": null,
      "overflow": null,
      "overflow_x": null,
      "overflow_y": null,
      "padding": null,
      "right": null,
      "top": null,
      "visibility": null,
      "width": null
     }
    },
    "175a3ad0efc348c69ec2782c3e670144": {
     "model_module": "@jupyter-widgets/base",
     "model_module_version": "1.2.0",
     "model_name": "LayoutModel",
     "state": {
      "_model_module": "@jupyter-widgets/base",
      "_model_module_version": "1.2.0",
      "_model_name": "LayoutModel",
      "_view_count": null,
      "_view_module": "@jupyter-widgets/base",
      "_view_module_version": "1.2.0",
      "_view_name": "LayoutView",
      "align_content": null,
      "align_items": null,
      "align_self": null,
      "border": null,
      "bottom": null,
      "display": null,
      "flex": null,
      "flex_flow": null,
      "grid_area": null,
      "grid_auto_columns": null,
      "grid_auto_flow": null,
      "grid_auto_rows": null,
      "grid_column": null,
      "grid_gap": null,
      "grid_row": null,
      "grid_template_areas": null,
      "grid_template_columns": null,
      "grid_template_rows": null,
      "height": null,
      "justify_content": null,
      "justify_items": null,
      "left": null,
      "margin": null,
      "max_height": null,
      "max_width": null,
      "min_height": null,
      "min_width": null,
      "object_fit": null,
      "object_position": null,
      "order": null,
      "overflow": null,
      "overflow_x": null,
      "overflow_y": null,
      "padding": null,
      "right": null,
      "top": null,
      "visibility": null,
      "width": "20px"
     }
    },
    "19d0e86909634d429bbe3fa364e00470": {
     "model_module": "@jupyter-widgets/base",
     "model_module_version": "1.2.0",
     "model_name": "LayoutModel",
     "state": {
      "_model_module": "@jupyter-widgets/base",
      "_model_module_version": "1.2.0",
      "_model_name": "LayoutModel",
      "_view_count": null,
      "_view_module": "@jupyter-widgets/base",
      "_view_module_version": "1.2.0",
      "_view_name": "LayoutView",
      "align_content": null,
      "align_items": null,
      "align_self": null,
      "border": null,
      "bottom": null,
      "display": null,
      "flex": null,
      "flex_flow": null,
      "grid_area": null,
      "grid_auto_columns": null,
      "grid_auto_flow": null,
      "grid_auto_rows": null,
      "grid_column": null,
      "grid_gap": null,
      "grid_row": null,
      "grid_template_areas": null,
      "grid_template_columns": null,
      "grid_template_rows": null,
      "height": null,
      "justify_content": null,
      "justify_items": null,
      "left": null,
      "margin": null,
      "max_height": null,
      "max_width": null,
      "min_height": null,
      "min_width": null,
      "object_fit": null,
      "object_position": null,
      "order": null,
      "overflow": null,
      "overflow_x": null,
      "overflow_y": null,
      "padding": null,
      "right": null,
      "top": null,
      "visibility": null,
      "width": null
     }
    },
    "1c6fee663fc7424b851e1b0c13dd9510": {
     "model_module": "@jupyter-widgets/controls",
     "model_module_version": "1.5.0",
     "model_name": "FloatProgressModel",
     "state": {
      "_dom_classes": [],
      "_model_module": "@jupyter-widgets/controls",
      "_model_module_version": "1.5.0",
      "_model_name": "FloatProgressModel",
      "_view_count": null,
      "_view_module": "@jupyter-widgets/controls",
      "_view_module_version": "1.5.0",
      "_view_name": "ProgressView",
      "bar_style": "danger",
      "description": "",
      "description_tooltip": null,
      "layout": "IPY_MODEL_175a3ad0efc348c69ec2782c3e670144",
      "max": 1,
      "min": 0,
      "orientation": "horizontal",
      "style": "IPY_MODEL_6e322af8e65441a9a7453e714ca4095d",
      "value": 1
     }
    },
    "3728756314814e83a89fa18a3b85e733": {
     "model_module": "@jupyter-widgets/controls",
     "model_module_version": "1.5.0",
     "model_name": "DescriptionStyleModel",
     "state": {
      "_model_module": "@jupyter-widgets/controls",
      "_model_module_version": "1.5.0",
      "_model_name": "DescriptionStyleModel",
      "_view_count": null,
      "_view_module": "@jupyter-widgets/base",
      "_view_module_version": "1.2.0",
      "_view_name": "StyleView",
      "description_width": ""
     }
    },
    "38cf7a8d4b5a48a588e0be556b44f923": {
     "model_module": "@jupyter-widgets/controls",
     "model_module_version": "1.5.0",
     "model_name": "DescriptionStyleModel",
     "state": {
      "_model_module": "@jupyter-widgets/controls",
      "_model_module_version": "1.5.0",
      "_model_name": "DescriptionStyleModel",
      "_view_count": null,
      "_view_module": "@jupyter-widgets/base",
      "_view_module_version": "1.2.0",
      "_view_name": "StyleView",
      "description_width": ""
     }
    },
    "3c66d5e5ab344255af614529127392f1": {
     "model_module": "@jupyter-widgets/base",
     "model_module_version": "1.2.0",
     "model_name": "LayoutModel",
     "state": {
      "_model_module": "@jupyter-widgets/base",
      "_model_module_version": "1.2.0",
      "_model_name": "LayoutModel",
      "_view_count": null,
      "_view_module": "@jupyter-widgets/base",
      "_view_module_version": "1.2.0",
      "_view_name": "LayoutView",
      "align_content": null,
      "align_items": null,
      "align_self": null,
      "border": null,
      "bottom": null,
      "display": null,
      "flex": null,
      "flex_flow": null,
      "grid_area": null,
      "grid_auto_columns": null,
      "grid_auto_flow": null,
      "grid_auto_rows": null,
      "grid_column": null,
      "grid_gap": null,
      "grid_row": null,
      "grid_template_areas": null,
      "grid_template_columns": null,
      "grid_template_rows": null,
      "height": null,
      "justify_content": null,
      "justify_items": null,
      "left": null,
      "margin": null,
      "max_height": null,
      "max_width": null,
      "min_height": null,
      "min_width": null,
      "object_fit": null,
      "object_position": null,
      "order": null,
      "overflow": null,
      "overflow_x": null,
      "overflow_y": null,
      "padding": null,
      "right": null,
      "top": null,
      "visibility": null,
      "width": null
     }
    },
    "3dd039b26d4b47929ea84a55d8ee89cf": {
     "model_module": "@jupyter-widgets/controls",
     "model_module_version": "1.5.0",
     "model_name": "FloatProgressModel",
     "state": {
      "_dom_classes": [],
      "_model_module": "@jupyter-widgets/controls",
      "_model_module_version": "1.5.0",
      "_model_name": "FloatProgressModel",
      "_view_count": null,
      "_view_module": "@jupyter-widgets/controls",
      "_view_module_version": "1.5.0",
      "_view_name": "ProgressView",
      "bar_style": "success",
      "description": "",
      "description_tooltip": null,
      "layout": "IPY_MODEL_48dfa5f908d7428a9ff570f96320025b",
      "max": 1,
      "min": 0,
      "orientation": "horizontal",
      "style": "IPY_MODEL_60b7434fb4f34018afe7dedfc55907ad",
      "value": 1
     }
    },
    "48dfa5f908d7428a9ff570f96320025b": {
     "model_module": "@jupyter-widgets/base",
     "model_module_version": "1.2.0",
     "model_name": "LayoutModel",
     "state": {
      "_model_module": "@jupyter-widgets/base",
      "_model_module_version": "1.2.0",
      "_model_name": "LayoutModel",
      "_view_count": null,
      "_view_module": "@jupyter-widgets/base",
      "_view_module_version": "1.2.0",
      "_view_name": "LayoutView",
      "align_content": null,
      "align_items": null,
      "align_self": null,
      "border": null,
      "bottom": null,
      "display": null,
      "flex": null,
      "flex_flow": null,
      "grid_area": null,
      "grid_auto_columns": null,
      "grid_auto_flow": null,
      "grid_auto_rows": null,
      "grid_column": null,
      "grid_gap": null,
      "grid_row": null,
      "grid_template_areas": null,
      "grid_template_columns": null,
      "grid_template_rows": null,
      "height": null,
      "justify_content": null,
      "justify_items": null,
      "left": null,
      "margin": null,
      "max_height": null,
      "max_width": null,
      "min_height": null,
      "min_width": null,
      "object_fit": null,
      "object_position": null,
      "order": null,
      "overflow": null,
      "overflow_x": null,
      "overflow_y": null,
      "padding": null,
      "right": null,
      "top": null,
      "visibility": null,
      "width": null
     }
    },
    "57e98d358f57406ea6b918024805e895": {
     "model_module": "@jupyter-widgets/controls",
     "model_module_version": "1.5.0",
     "model_name": "HTMLModel",
     "state": {
      "_dom_classes": [],
      "_model_module": "@jupyter-widgets/controls",
      "_model_module_version": "1.5.0",
      "_model_name": "HTMLModel",
      "_view_count": null,
      "_view_module": "@jupyter-widgets/controls",
      "_view_module_version": "1.5.0",
      "_view_name": "HTMLView",
      "description": "",
      "description_tooltip": null,
      "layout": "IPY_MODEL_daa7a55aaf6e4b72ba4089c0632e9c16",
      "placeholder": "​",
      "style": "IPY_MODEL_e3f5aa0168b44bf9b09bde03f4149041",
      "value": "100%"
     }
    },
    "5dcba417dc804932b6d75f2198244741": {
     "model_module": "@jupyter-widgets/base",
     "model_module_version": "1.2.0",
     "model_name": "LayoutModel",
     "state": {
      "_model_module": "@jupyter-widgets/base",
      "_model_module_version": "1.2.0",
      "_model_name": "LayoutModel",
      "_view_count": null,
      "_view_module": "@jupyter-widgets/base",
      "_view_module_version": "1.2.0",
      "_view_name": "LayoutView",
      "align_content": null,
      "align_items": null,
      "align_self": null,
      "border": null,
      "bottom": null,
      "display": null,
      "flex": null,
      "flex_flow": null,
      "grid_area": null,
      "grid_auto_columns": null,
      "grid_auto_flow": null,
      "grid_auto_rows": null,
      "grid_column": null,
      "grid_gap": null,
      "grid_row": null,
      "grid_template_areas": null,
      "grid_template_columns": null,
      "grid_template_rows": null,
      "height": null,
      "justify_content": null,
      "justify_items": null,
      "left": null,
      "margin": null,
      "max_height": null,
      "max_width": null,
      "min_height": null,
      "min_width": null,
      "object_fit": null,
      "object_position": null,
      "order": null,
      "overflow": null,
      "overflow_x": null,
      "overflow_y": null,
      "padding": null,
      "right": null,
      "top": null,
      "visibility": null,
      "width": null
     }
    },
    "60b7434fb4f34018afe7dedfc55907ad": {
     "model_module": "@jupyter-widgets/controls",
     "model_module_version": "1.5.0",
     "model_name": "ProgressStyleModel",
     "state": {
      "_model_module": "@jupyter-widgets/controls",
      "_model_module_version": "1.5.0",
      "_model_name": "ProgressStyleModel",
      "_view_count": null,
      "_view_module": "@jupyter-widgets/base",
      "_view_module_version": "1.2.0",
      "_view_name": "StyleView",
      "bar_color": null,
      "description_width": "initial"
     }
    },
    "6e322af8e65441a9a7453e714ca4095d": {
     "model_module": "@jupyter-widgets/controls",
     "model_module_version": "1.5.0",
     "model_name": "ProgressStyleModel",
     "state": {
      "_model_module": "@jupyter-widgets/controls",
      "_model_module_version": "1.5.0",
      "_model_name": "ProgressStyleModel",
      "_view_count": null,
      "_view_module": "@jupyter-widgets/base",
      "_view_module_version": "1.2.0",
      "_view_name": "StyleView",
      "bar_color": null,
      "description_width": ""
     }
    },
    "79d14ac4aba34b94b56be35d369173c6": {
     "model_module": "@jupyter-widgets/base",
     "model_module_version": "1.2.0",
     "model_name": "LayoutModel",
     "state": {
      "_model_module": "@jupyter-widgets/base",
      "_model_module_version": "1.2.0",
      "_model_name": "LayoutModel",
      "_view_count": null,
      "_view_module": "@jupyter-widgets/base",
      "_view_module_version": "1.2.0",
      "_view_name": "LayoutView",
      "align_content": null,
      "align_items": null,
      "align_self": null,
      "border": null,
      "bottom": null,
      "display": null,
      "flex": null,
      "flex_flow": null,
      "grid_area": null,
      "grid_auto_columns": null,
      "grid_auto_flow": null,
      "grid_auto_rows": null,
      "grid_column": null,
      "grid_gap": null,
      "grid_row": null,
      "grid_template_areas": null,
      "grid_template_columns": null,
      "grid_template_rows": null,
      "height": null,
      "justify_content": null,
      "justify_items": null,
      "left": null,
      "margin": null,
      "max_height": null,
      "max_width": null,
      "min_height": null,
      "min_width": null,
      "object_fit": null,
      "object_position": null,
      "order": null,
      "overflow": null,
      "overflow_x": null,
      "overflow_y": null,
      "padding": null,
      "right": null,
      "top": null,
      "visibility": null,
      "width": null
     }
    },
    "7a6b4d009ca0435bb4d69b22b28801fa": {
     "model_module": "@jupyter-widgets/base",
     "model_module_version": "1.2.0",
     "model_name": "LayoutModel",
     "state": {
      "_model_module": "@jupyter-widgets/base",
      "_model_module_version": "1.2.0",
      "_model_name": "LayoutModel",
      "_view_count": null,
      "_view_module": "@jupyter-widgets/base",
      "_view_module_version": "1.2.0",
      "_view_name": "LayoutView",
      "align_content": null,
      "align_items": null,
      "align_self": null,
      "border": null,
      "bottom": null,
      "display": null,
      "flex": null,
      "flex_flow": null,
      "grid_area": null,
      "grid_auto_columns": null,
      "grid_auto_flow": null,
      "grid_auto_rows": null,
      "grid_column": null,
      "grid_gap": null,
      "grid_row": null,
      "grid_template_areas": null,
      "grid_template_columns": null,
      "grid_template_rows": null,
      "height": null,
      "justify_content": null,
      "justify_items": null,
      "left": null,
      "margin": null,
      "max_height": null,
      "max_width": null,
      "min_height": null,
      "min_width": null,
      "object_fit": null,
      "object_position": null,
      "order": null,
      "overflow": null,
      "overflow_x": null,
      "overflow_y": null,
      "padding": null,
      "right": null,
      "top": null,
      "visibility": null,
      "width": null
     }
    },
    "7c02585a06cb409d97f8532eda140797": {
     "model_module": "@jupyter-widgets/controls",
     "model_module_version": "1.5.0",
     "model_name": "HTMLModel",
     "state": {
      "_dom_classes": [],
      "_model_module": "@jupyter-widgets/controls",
      "_model_module_version": "1.5.0",
      "_model_name": "HTMLModel",
      "_view_count": null,
      "_view_module": "@jupyter-widgets/controls",
      "_view_module_version": "1.5.0",
      "_view_name": "HTMLView",
      "description": "",
      "description_tooltip": null,
      "layout": "IPY_MODEL_79d14ac4aba34b94b56be35d369173c6",
      "placeholder": "​",
      "style": "IPY_MODEL_fc71a71cab1c4964972925c3388639a0",
      "value": " 1/? [01:38&lt;00:00, 61.53s/it]"
     }
    },
    "859bb29906434081a7be6f58b1ad313f": {
     "model_module": "@jupyter-widgets/controls",
     "model_module_version": "1.5.0",
     "model_name": "HBoxModel",
     "state": {
      "_dom_classes": [],
      "_model_module": "@jupyter-widgets/controls",
      "_model_module_version": "1.5.0",
      "_model_name": "HBoxModel",
      "_view_count": null,
      "_view_module": "@jupyter-widgets/controls",
      "_view_module_version": "1.5.0",
      "_view_name": "HBoxView",
      "box_style": "",
      "children": [
       "IPY_MODEL_3dd039b26d4b47929ea84a55d8ee89cf",
       "IPY_MODEL_acb5f4a72d134c049c6c283df766db4c"
      ],
      "layout": "IPY_MODEL_3c66d5e5ab344255af614529127392f1"
     }
    },
    "acb5f4a72d134c049c6c283df766db4c": {
     "model_module": "@jupyter-widgets/controls",
     "model_module_version": "1.5.0",
     "model_name": "HTMLModel",
     "state": {
      "_dom_classes": [],
      "_model_module": "@jupyter-widgets/controls",
      "_model_module_version": "1.5.0",
      "_model_name": "HTMLModel",
      "_view_count": null,
      "_view_module": "@jupyter-widgets/controls",
      "_view_module_version": "1.5.0",
      "_view_name": "HTMLView",
      "description": "",
      "description_tooltip": null,
      "layout": "IPY_MODEL_f04c132e02134df0bcee6927fa8a00c0",
      "placeholder": "​",
      "style": "IPY_MODEL_3728756314814e83a89fa18a3b85e733",
      "value": " 40474/? [07:01&lt;00:00, 96.01it/s]"
     }
    },
    "b0c130d1cda24c9ca3f2445c42374de2": {
     "model_module": "@jupyter-widgets/controls",
     "model_module_version": "1.5.0",
     "model_name": "FloatProgressModel",
     "state": {
      "_dom_classes": [],
      "_model_module": "@jupyter-widgets/controls",
      "_model_module_version": "1.5.0",
      "_model_name": "FloatProgressModel",
      "_view_count": null,
      "_view_module": "@jupyter-widgets/controls",
      "_view_module_version": "1.5.0",
      "_view_name": "ProgressView",
      "bar_style": "success",
      "description": "",
      "description_tooltip": null,
      "layout": "IPY_MODEL_7a6b4d009ca0435bb4d69b22b28801fa",
      "max": 2,
      "min": 0,
      "orientation": "horizontal",
      "style": "IPY_MODEL_bcc6af68ed8940e2a005109b1c247928",
      "value": 2
     }
    },
    "b25c62f19f24430798b343820df38b62": {
     "model_module": "@jupyter-widgets/controls",
     "model_module_version": "1.5.0",
     "model_name": "HTMLModel",
     "state": {
      "_dom_classes": [],
      "_model_module": "@jupyter-widgets/controls",
      "_model_module_version": "1.5.0",
      "_model_name": "HTMLModel",
      "_view_count": null,
      "_view_module": "@jupyter-widgets/controls",
      "_view_module_version": "1.5.0",
      "_view_name": "HTMLView",
      "description": "",
      "description_tooltip": null,
      "layout": "IPY_MODEL_1560a4cae3d14896baddb9ee89b973a7",
      "placeholder": "​",
      "style": "IPY_MODEL_ef691a6c89b54759aa117ae762274fde",
      "value": ""
     }
    },
    "bcc6af68ed8940e2a005109b1c247928": {
     "model_module": "@jupyter-widgets/controls",
     "model_module_version": "1.5.0",
     "model_name": "ProgressStyleModel",
     "state": {
      "_model_module": "@jupyter-widgets/controls",
      "_model_module_version": "1.5.0",
      "_model_name": "ProgressStyleModel",
      "_view_count": null,
      "_view_module": "@jupyter-widgets/base",
      "_view_module_version": "1.2.0",
      "_view_name": "StyleView",
      "bar_color": null,
      "description_width": ""
     }
    },
    "c22fc60aa4a7496abe08ca3dbdd30a15": {
     "model_module": "@jupyter-widgets/controls",
     "model_module_version": "1.5.0",
     "model_name": "HBoxModel",
     "state": {
      "_dom_classes": [],
      "_model_module": "@jupyter-widgets/controls",
      "_model_module_version": "1.5.0",
      "_model_name": "HBoxModel",
      "_view_count": null,
      "_view_module": "@jupyter-widgets/controls",
      "_view_module_version": "1.5.0",
      "_view_name": "HBoxView",
      "box_style": "",
      "children": [
       "IPY_MODEL_57e98d358f57406ea6b918024805e895",
       "IPY_MODEL_b0c130d1cda24c9ca3f2445c42374de2",
       "IPY_MODEL_e52a853e802849809bfb1a3cfa0cf96a"
      ],
      "layout": "IPY_MODEL_5dcba417dc804932b6d75f2198244741"
     }
    },
    "c9efdf26609f4817b2a73850c8c5eec5": {
     "model_module": "@jupyter-widgets/base",
     "model_module_version": "1.2.0",
     "model_name": "LayoutModel",
     "state": {
      "_model_module": "@jupyter-widgets/base",
      "_model_module_version": "1.2.0",
      "_model_name": "LayoutModel",
      "_view_count": null,
      "_view_module": "@jupyter-widgets/base",
      "_view_module_version": "1.2.0",
      "_view_name": "LayoutView",
      "align_content": null,
      "align_items": null,
      "align_self": null,
      "border": null,
      "bottom": null,
      "display": null,
      "flex": null,
      "flex_flow": null,
      "grid_area": null,
      "grid_auto_columns": null,
      "grid_auto_flow": null,
      "grid_auto_rows": null,
      "grid_column": null,
      "grid_gap": null,
      "grid_row": null,
      "grid_template_areas": null,
      "grid_template_columns": null,
      "grid_template_rows": null,
      "height": null,
      "justify_content": null,
      "justify_items": null,
      "left": null,
      "margin": null,
      "max_height": null,
      "max_width": null,
      "min_height": null,
      "min_width": null,
      "object_fit": null,
      "object_position": null,
      "order": null,
      "overflow": null,
      "overflow_x": null,
      "overflow_y": null,
      "padding": null,
      "right": null,
      "top": null,
      "visibility": null,
      "width": null
     }
    },
    "daa7a55aaf6e4b72ba4089c0632e9c16": {
     "model_module": "@jupyter-widgets/base",
     "model_module_version": "1.2.0",
     "model_name": "LayoutModel",
     "state": {
      "_model_module": "@jupyter-widgets/base",
      "_model_module_version": "1.2.0",
      "_model_name": "LayoutModel",
      "_view_count": null,
      "_view_module": "@jupyter-widgets/base",
      "_view_module_version": "1.2.0",
      "_view_name": "LayoutView",
      "align_content": null,
      "align_items": null,
      "align_self": null,
      "border": null,
      "bottom": null,
      "display": null,
      "flex": null,
      "flex_flow": null,
      "grid_area": null,
      "grid_auto_columns": null,
      "grid_auto_flow": null,
      "grid_auto_rows": null,
      "grid_column": null,
      "grid_gap": null,
      "grid_row": null,
      "grid_template_areas": null,
      "grid_template_columns": null,
      "grid_template_rows": null,
      "height": null,
      "justify_content": null,
      "justify_items": null,
      "left": null,
      "margin": null,
      "max_height": null,
      "max_width": null,
      "min_height": null,
      "min_width": null,
      "object_fit": null,
      "object_position": null,
      "order": null,
      "overflow": null,
      "overflow_x": null,
      "overflow_y": null,
      "padding": null,
      "right": null,
      "top": null,
      "visibility": null,
      "width": null
     }
    },
    "e3f5aa0168b44bf9b09bde03f4149041": {
     "model_module": "@jupyter-widgets/controls",
     "model_module_version": "1.5.0",
     "model_name": "DescriptionStyleModel",
     "state": {
      "_model_module": "@jupyter-widgets/controls",
      "_model_module_version": "1.5.0",
      "_model_name": "DescriptionStyleModel",
      "_view_count": null,
      "_view_module": "@jupyter-widgets/base",
      "_view_module_version": "1.2.0",
      "_view_name": "StyleView",
      "description_width": ""
     }
    },
    "e52a853e802849809bfb1a3cfa0cf96a": {
     "model_module": "@jupyter-widgets/controls",
     "model_module_version": "1.5.0",
     "model_name": "HTMLModel",
     "state": {
      "_dom_classes": [],
      "_model_module": "@jupyter-widgets/controls",
      "_model_module_version": "1.5.0",
      "_model_name": "HTMLModel",
      "_view_count": null,
      "_view_module": "@jupyter-widgets/controls",
      "_view_module_version": "1.5.0",
      "_view_name": "HTMLView",
      "description": "",
      "description_tooltip": null,
      "layout": "IPY_MODEL_c9efdf26609f4817b2a73850c8c5eec5",
      "placeholder": "​",
      "style": "IPY_MODEL_38cf7a8d4b5a48a588e0be556b44f923",
      "value": " 2/2 [00:00&lt;00:00, 29.72it/s]"
     }
    },
    "e67239d71fe44716a056aab5bdf3dd91": {
     "model_module": "@jupyter-widgets/controls",
     "model_module_version": "1.5.0",
     "model_name": "HBoxModel",
     "state": {
      "_dom_classes": [],
      "_model_module": "@jupyter-widgets/controls",
      "_model_module_version": "1.5.0",
      "_model_name": "HBoxModel",
      "_view_count": null,
      "_view_module": "@jupyter-widgets/controls",
      "_view_module_version": "1.5.0",
      "_view_name": "HBoxView",
      "box_style": "",
      "children": [
       "IPY_MODEL_b25c62f19f24430798b343820df38b62",
       "IPY_MODEL_1c6fee663fc7424b851e1b0c13dd9510",
       "IPY_MODEL_7c02585a06cb409d97f8532eda140797"
      ],
      "layout": "IPY_MODEL_19d0e86909634d429bbe3fa364e00470"
     }
    },
    "ef691a6c89b54759aa117ae762274fde": {
     "model_module": "@jupyter-widgets/controls",
     "model_module_version": "1.5.0",
     "model_name": "DescriptionStyleModel",
     "state": {
      "_model_module": "@jupyter-widgets/controls",
      "_model_module_version": "1.5.0",
      "_model_name": "DescriptionStyleModel",
      "_view_count": null,
      "_view_module": "@jupyter-widgets/base",
      "_view_module_version": "1.2.0",
      "_view_name": "StyleView",
      "description_width": ""
     }
    },
    "f04c132e02134df0bcee6927fa8a00c0": {
     "model_module": "@jupyter-widgets/base",
     "model_module_version": "1.2.0",
     "model_name": "LayoutModel",
     "state": {
      "_model_module": "@jupyter-widgets/base",
      "_model_module_version": "1.2.0",
      "_model_name": "LayoutModel",
      "_view_count": null,
      "_view_module": "@jupyter-widgets/base",
      "_view_module_version": "1.2.0",
      "_view_name": "LayoutView",
      "align_content": null,
      "align_items": null,
      "align_self": null,
      "border": null,
      "bottom": null,
      "display": null,
      "flex": null,
      "flex_flow": null,
      "grid_area": null,
      "grid_auto_columns": null,
      "grid_auto_flow": null,
      "grid_auto_rows": null,
      "grid_column": null,
      "grid_gap": null,
      "grid_row": null,
      "grid_template_areas": null,
      "grid_template_columns": null,
      "grid_template_rows": null,
      "height": null,
      "justify_content": null,
      "justify_items": null,
      "left": null,
      "margin": null,
      "max_height": null,
      "max_width": null,
      "min_height": null,
      "min_width": null,
      "object_fit": null,
      "object_position": null,
      "order": null,
      "overflow": null,
      "overflow_x": null,
      "overflow_y": null,
      "padding": null,
      "right": null,
      "top": null,
      "visibility": null,
      "width": null
     }
    },
    "fc71a71cab1c4964972925c3388639a0": {
     "model_module": "@jupyter-widgets/controls",
     "model_module_version": "1.5.0",
     "model_name": "DescriptionStyleModel",
     "state": {
      "_model_module": "@jupyter-widgets/controls",
      "_model_module_version": "1.5.0",
      "_model_name": "DescriptionStyleModel",
      "_view_count": null,
      "_view_module": "@jupyter-widgets/base",
      "_view_module_version": "1.2.0",
      "_view_name": "StyleView",
      "description_width": ""
     }
    }
   }
  }
 },
 "nbformat": 4,
 "nbformat_minor": 1
}
